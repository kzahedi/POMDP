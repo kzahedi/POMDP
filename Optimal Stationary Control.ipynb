{
 "cells": [
  {
   "cell_type": "code",
   "execution_count": 4,
   "metadata": {
    "collapsed": false
   },
   "outputs": [
    {
     "name": "stderr",
     "output_type": "stream",
     "text": [
      "INFO: Loading help data...\n"
     ]
    }
   ],
   "source": [
    "using PyPlot\n",
    "addprocs(4)\n",
    "@everywhere using DataFrames\n",
    "#using ProgressMeter"
   ]
  },
  {
   "cell_type": "code",
   "execution_count": 5,
   "metadata": {
    "collapsed": false
   },
   "outputs": [],
   "source": [
    "@everywhere actions = [:north, :south, :east, :west];\n",
    "\n",
    "@everywhere type Maze_t\n",
    "    maze::Matrix{Char}\n",
    "    sensor_states::Vector{ASCIIString}\n",
    "    Vw::Matrix{Float64}\n",
    "    Qw::Array{Float64,3}\n",
    "    Qs::Matrix{Float64}\n",
    "    n::Matrix{Float64}\n",
    "    C::Matrix{Float64}\n",
    "    numbers::Matrix{Int64}\n",
    "    state_reward_function::Dict{Char, Float64}\n",
    "    belief::Vector{Float64}\n",
    "end\n",
    "\n",
    "@everywhere type Result\n",
    "    maze::Maze_t\n",
    "    values::Vector{Float64}\n",
    "end"
   ]
  },
  {
   "cell_type": "markdown",
   "metadata": {},
   "source": [
    "### Initialisation function"
   ]
  },
  {
   "cell_type": "code",
   "execution_count": 6,
   "metadata": {
    "collapsed": false
   },
   "outputs": [],
   "source": [
    "@everywhere function get_action_index(symbol::Symbol)\n",
    "    r = findin(actions, [symbol])\n",
    "    if length(r) != 1\n",
    "        return -1\n",
    "        end\n",
    "    return r[1]\n",
    "end\n",
    "\n",
    "@everywhere function get_sensor_state(maze::Matrix{Char}, i::Int64, j::Int64)\n",
    "    foldl(string,[maze[i,j], maze[i-1,j+1], maze[i-1,j+1], maze[i, j+1], maze[i+1, j+1], maze[i+1, j], maze[i+1, j-1], maze[i,j-1], maze[i-1,j-1]])\n",
    "end\n",
    "\n",
    "@everywhere function get_unique_sensor_states(maze::Matrix{Char})\n",
    "    sensor_states = []\n",
    "    for i=2:size(maze)[1] - 1\n",
    "        for j=2:size(maze)[2] - 1\n",
    "            if maze[i,j] != '#'\n",
    "                sensor_state = get_sensor_state(maze, i, j)\n",
    "                if sensor_state in sensor_states == false\n",
    "                    sensor_states = [sensor_states, sensor_state]\n",
    "                end\n",
    "            end\n",
    "        end\n",
    "    end\n",
    "    sensor_states\n",
    "end\n",
    "\n",
    "@everywhere function get_sensor_index(maze::Matrix{Char}, i::Int64, j::Int64, sensor_states::Vector{ASCIIString})\n",
    "    sensor_state = get_sensor_state(maze, i, j)\n",
    "    lst = findin(sensor_states, [sensor_state])\n",
    "    if length(lst) >= 1 && lst[1] > 0\n",
    "        return lst[1]\n",
    "    else\n",
    "        return -1\n",
    "    end\n",
    "end\n",
    "\n",
    "@everywhere function get_state_coordinate(maze::Matrix{Char}, char::Char)\n",
    "    for i=1:size(maze)[1]\n",
    "        for j = 1:size(maze)[2]\n",
    "            if maze[i,j] == char\n",
    "                return i,j\n",
    "            end\n",
    "        end\n",
    "    end\n",
    "    return -1, -1\n",
    "end\n",
    "\n",
    "@everywhere function convert_string_to_string_array(s::String)\n",
    "    index = 1\n",
    "    while s[index] == ' ' || s[index] == '\\n'\n",
    "        index = index + 1\n",
    "    end\n",
    "    maze = nothing\n",
    "    row = []\n",
    "    for i=index:length(s)\n",
    "        if s[i] == '\\n'\n",
    "            if maze == nothing\n",
    "                maze = row\n",
    "            else\n",
    "                maze = hcat(maze, row)\n",
    "            end\n",
    "            row = []\n",
    "        else\n",
    "            row = [row, s[i]]\n",
    "        end\n",
    "    end\n",
    "    return maze'\n",
    "end\n",
    "\n",
    "@everywhere function create_experiment_setup(definition::String, state_reward_function::Dict{Char,Float64})\n",
    "    maze          = convert_string_to_string_array(definition)\n",
    "    sensor_states = get_unique_sensor_states(maze)\n",
    "    Vw            = zeros(size(maze))\n",
    "    Qw            = zeros(size(maze)[1], size(maze)[2], 4)\n",
    "    Qs            = zeros(length(sensor_states),4)\n",
    "    n             = zeros(size(maze))\n",
    "    C             = zeros(size(maze))\n",
    "    numbered_maze = int64(zeros(size(maze)))\n",
    "    belief        = zeros(length(sensor_states))\n",
    "    for i = 2:size(maze)[1]-1\n",
    "        for j = 2:size(maze)[2]-1\n",
    "            index = get_sensor_index(maze, i, j, sensor_states)\n",
    "            if index > 0\n",
    "                belief[index] = belief[index] + 1.0\n",
    "                numbered_maze[i,j] = index\n",
    "            end\n",
    "        end\n",
    "    end\n",
    "    belief = [1.0/v for v in belief]\n",
    "    return Maze_t(maze, sensor_states, Vw, Qw, Qs, n, C, numbered_maze, state_reward_function, belief)\n",
    "end"
   ]
  },
  {
   "cell_type": "markdown",
   "metadata": {},
   "source": [
    "### Plot functions"
   ]
  },
  {
   "cell_type": "code",
   "execution_count": 53,
   "metadata": {
    "collapsed": false
   },
   "outputs": [],
   "source": [
    "@everywhere function plot_data(maze::Maze_t)\n",
    "    s = (size(maze.maze)[2], size(maze.maze)[1] .* 0.3)\n",
    "    clf()\n",
    "    figure(figsize=s)\n",
    "    subplot(121)\n",
    "    xticks([])\n",
    "    yticks([])\n",
    "    colorbar(imshow(maze.Qs, interpolation=\"none\"))\n",
    "    title(\"Q(s,a)\")\n",
    "    \n",
    "    subplot(122)\n",
    "    colorbar(imshow(maze.Vw, interpolation=\"none\"))\n",
    "    xticks([])\n",
    "    yticks([])\n",
    "    clim([minimum([0, minimum(maze.Vw)]),1000]) # 1000 is the maximum = V('T')    \n",
    "    title(\"V(w)\")\n",
    "end\n",
    "\n",
    "@everywhere function write_plot_data(maze::Maze_t, filename::String)\n",
    "    s = (size(maze.maze)[2], size(maze.maze)[1] .* 0.3)\n",
    "    clf()\n",
    "    figure(figsize=s)\n",
    "    subplot(121)\n",
    "    xticks([])\n",
    "    yticks([])\n",
    "    colorbar(imshow(maze.Qs, interpolation=\"none\"))\n",
    "    title(\"Q(s,a)\")\n",
    "    \n",
    "    subplot(122)\n",
    "    colorbar(imshow(maze.Vw, interpolation=\"none\"))\n",
    "    xticks([])\n",
    "    yticks([])\n",
    "    title(\"V(w)\")\n",
    "    clim([minimum([0, minimum(maze.Vw)]),1000]) # 1000 is the maximum = V('T') \n",
    "    savefig(filename)\n",
    "end"
   ]
  },
  {
   "cell_type": "markdown",
   "metadata": {
    "collapsed": false
   },
   "source": [
    "### Policy Iteration"
   ]
  },
  {
   "cell_type": "code",
   "execution_count": 54,
   "metadata": {
    "collapsed": false
   },
   "outputs": [],
   "source": [
    "@everywhere function policy_iteration!(maze::Maze_t, k::Int64)\n",
    "    # Q(w,a) = \\sum_{w'} p(w'|a) V(w'), where p(w'|a) is a Dirac measure\n",
    "    for i = 2:size(maze.Vw)[1]-1\n",
    "        for j = 2:size(maze.Vw)[2] - 1\n",
    "            maze.Qw[i,j,1] = maze.Vw[i-1, j] - 1.0\n",
    "            maze.Qw[i,j,2] = maze.Vw[i+1, j] - 1.0\n",
    "            maze.Qw[i,j,3] = maze.Vw[i,   j+1] - 1.0\n",
    "            maze.Qw[i,j,4] = maze.Vw[i,   j-1] - 1.0\n",
    "        end\n",
    "    end\n",
    "    \n",
    "    for s = 1:length(maze.sensor_states)\n",
    "        for a = 1:4\n",
    "            maze.Qs[s,a] = 0.0\n",
    "        end\n",
    "    end\n",
    "    \n",
    "    for i = 2:size(maze.maze)[1] - 1\n",
    "        for j = 2:size(maze.maze)[2] - 1\n",
    "            index = get_sensor_index(maze.maze, i, j, maze.sensor_states)\n",
    "            if index > 0\n",
    "                for a = 1:4\n",
    "                    maze.Qs[index, a] = maze.Qs[index, a] + maze.belief[index] * maze.Qw[i,j,a]\n",
    "                end\n",
    "            end\n",
    "        end\n",
    "    end\n",
    "    \n",
    "    for s = 1:length(maze.sensor_states)\n",
    "        values = DataFrame(VALUES=[v for v in maze.Qs[s,:]], ACTION=actions[1:4], INDICES=[1:4])\n",
    "        sort!(values, cols = (:VALUES), rev=true)\n",
    "        if sum(abs(values[:,1])) < 0.001 # randomise action if no values have been aquired so far\n",
    "            r = randperm(4)\n",
    "            values[:ACTION]=actions[r]\n",
    "            values[:INDICES] = r\n",
    "        end\n",
    "        values = values[1:minimum([k, size(values)[1]]),:]\n",
    "\n",
    "        v = values[:,1]\n",
    "        if sum(v) < 0.1\n",
    "            v = [1.0/float64(length(v)) for x=1:length(v)]\n",
    "        else\n",
    "            rw = sum(v)\n",
    "            v  = [w / rw for w in v]\n",
    "        end\n",
    "        values[:,1] = v\n",
    "        \n",
    "        for a = 1:4\n",
    "            maze.Qs[s,a] = 0.0\n",
    "        end\n",
    "        \n",
    "        for a = 1:size(values)[1]\n",
    "            maze.Qs[s,values[a,3]] = values[a,1]\n",
    "        end\n",
    "    end\n",
    "   # plot_data(maze, \"after policy iteration\")\n",
    "end"
   ]
  },
  {
   "cell_type": "markdown",
   "metadata": {},
   "source": [
    "### Policy evaluation"
   ]
  },
  {
   "cell_type": "code",
   "execution_count": 55,
   "metadata": {
    "collapsed": false,
    "scrolled": true
   },
   "outputs": [],
   "source": [
    "@everywhere function policy_evaluation!(maze::Maze_t, T::Int64, R::Int64)\n",
    "    for i = 1:R\n",
    "        # randomise start position\n",
    "        x = 1 + int64(ceil(rand() * size(maze.maze)[1])) - 1\n",
    "        y = 1 + int64(ceil(rand() * size(maze.maze)[2])) - 1\n",
    "    \n",
    "        while maze.maze[x,y] == '#'\n",
    "            x = 1 + int64(ceil(rand() * size(maze.maze)[1])) - 1\n",
    "            y = 1 + int64(ceil(rand() * size(maze.maze)[2])) - 1\n",
    "        end\n",
    "    \n",
    "        init_x = x\n",
    "        init_y = y\n",
    "        \n",
    "        if maze.maze[init_x,init_y] in keys(maze.state_reward_function)\n",
    "            # we are done, if we are on a reward field\n",
    "            maze.Vw[init_x,init_y] = maze.state_reward_function[maze.maze[init_x,init_y]]\n",
    "            break\n",
    "        end\n",
    "\n",
    "        for i=1:T\n",
    "            s = get_sensor_index(maze.maze, x, y, maze.sensor_states)\n",
    "            probabilities = maze.Qs[s,:]\n",
    "            p = rand()            \n",
    "            action = actions[end]\n",
    "            for j = 1:4\n",
    "                if p < sum(probabilities[1:j])\n",
    "                    action = actions[j]\n",
    "                    break\n",
    "                end\n",
    "            end\n",
    "\n",
    "            if action == :north\n",
    "                if maze.maze[x - 1,y] == 'B'\n",
    "                    x, y = get_state_coordinate(maze.maze, 'S')\n",
    "                elseif maze.maze[x - 1,y] != '#'\n",
    "                    x = x - 1\n",
    "                end\n",
    "            elseif action == :south\n",
    "                if maze.maze[x + 1,y] == 'B'\n",
    "                    x, y = get_state_coordinate(maze.maze, 'S')\n",
    "                elseif maze.maze[x + 1,y] != '#'\n",
    "                    x = x + 1\n",
    "                end\n",
    "            elseif action == :east\n",
    "                if maze.maze[x,y + 1] == 'B'\n",
    "                    x, y = get_state_coordinate(maze.maze, 'S')\n",
    "                elseif maze.maze[x,y + 1] != '#'\n",
    "                    y = y + 1\n",
    "                end\n",
    "            elseif action == :west\n",
    "                if maze.maze[x,y - 1] == 'B'\n",
    "                    x, y = get_state_coordinate(maze.maze, 'S')\n",
    "                elseif maze.maze[x,y - 1] != '#'\n",
    "                    y = y - 1\n",
    "                end\n",
    "            end\n",
    "            \n",
    "            maze.C[init_x, init_y] = maze.C[init_x, init_y] - 1.0\n",
    "            if maze.maze[x,y] in keys(maze.state_reward_function)\n",
    "                maze.C[init_x, init_y] = maze.C[init_x, init_y] + maze.state_reward_function[maze.maze[x,y]]\n",
    "                break # done. we found a reward\n",
    "            end\n",
    "        end\n",
    "        maze.n[init_x, init_y]  = maze.n[init_x, init_y] + 1.0\n",
    "        maze.Vw[init_x, init_y] = maze.C[init_x, init_y] / maze.n[init_x, init_y]\n",
    "    end\n",
    "   # plot_data(maze, \"after policy evaluation\\n\")\n",
    "end"
   ]
  },
  {
   "cell_type": "markdown",
   "metadata": {},
   "source": [
    "### Evaluation"
   ]
  },
  {
   "cell_type": "code",
   "execution_count": 58,
   "metadata": {
    "collapsed": false,
    "scrolled": true
   },
   "outputs": [
    {
     "data": {
      "text/plain": [
       "run_experiment (generic function with 1 method)"
      ]
     },
     "execution_count": 58,
     "metadata": {},
     "output_type": "execute_result"
    }
   ],
   "source": [
    "maze_definition = \"\n",
    "#########\n",
    "###T   B#\n",
    "##### ###\n",
    "#B    ###\n",
    "### #####\n",
    "###S#####\n",
    "#########\n",
    "\"\n",
    "\n",
    "function run_experiment(k::Int64, trials::Int64, iterations::Int64, T::Int64, N::Int64, maze_string::String)\n",
    "#    pm = Progress(trials * epoch_length, 1)\n",
    "    results = @parallel (hcat) for i = 1:trials\n",
    "#        println(\"Working on trial $i\")\n",
    "        maze = create_experiment_setup(maze_string, ['T' => 1000.0])\n",
    "        v = zeros(iterations)\n",
    "        x,y = get_state_coordinate(maze.maze, 'S')\n",
    "       \n",
    "        for j = 1:iterations\n",
    "            policy_evaluation!(maze, T, N)\n",
    "            policy_iteration!(maze, k)\n",
    "            v[j] = maze.Vw[x,y]\n",
    "#            next!(pm)\n",
    "        end\n",
    "#        values = values .+ v\n",
    "        Result(maze, v)\n",
    "    end\n",
    "    mazes  = map(r->r.maze,   results)\n",
    "    values = map(r->r.values, results)\n",
    "    return mazes, mean(values)\n",
    "end"
   ]
  },
  {
   "cell_type": "code",
   "execution_count": 59,
   "metadata": {
    "collapsed": false
   },
   "outputs": [],
   "source": [
    "trials = 100\n",
    "iterations = 2000\n",
    "initial_positions = 10\n",
    "mc_path_length = 10\n",
    ";"
   ]
  },
  {
   "cell_type": "code",
   "execution_count": 60,
   "metadata": {
    "collapsed": false
   },
   "outputs": [
    {
     "data": {
      "text/plain": [
       "Figure(PyObject <matplotlib.figure.Figure object at 0x114fc64d0>)"
      ]
     },
     "metadata": {},
     "output_type": "display_data"
    },
    {
     "data": {
      "image/png": "[encoded data removed]",
      "text/plain": [
       "Figure(PyObject <matplotlib.figure.Figure object at 0x1143aa690>)"
      ]
     },
     "metadata": {},
     "output_type": "display_data"
    },
    {
     "data": {
      "text/plain": [
       "7x9 Array{Float64,2}:\n",
       " 0.0   0.0      0.0        0.0       0.0      0.0      0.0      0.0    0.0\n",
       " 0.0   0.0      0.0     1000.0     836.828  585.642  348.671  340.817  0.0\n",
       " 0.0   0.0      0.0        0.0       0.0    469.837    0.0      0.0    0.0\n",
       " 0.0  48.7514  40.6954   111.695   262.384  391.687    0.0      0.0    0.0\n",
       " 0.0   0.0      0.0       32.6253    0.0      0.0      0.0      0.0    0.0\n",
       " 0.0   0.0      0.0       48.4275    0.0      0.0      0.0      0.0    0.0\n",
       " 0.0   0.0      0.0        0.0       0.0      0.0      0.0      0.0    0.0"
      ]
     },
     "execution_count": 60,
     "metadata": {},
     "output_type": "execute_result"
    }
   ],
   "source": [
    "m4, v4 = run_experiment(4, trials, iterations, mc_path_length, initial_positions, maze_definition)\n",
    "plot(v4)\n",
    "plot_data(m4[1])\n",
    "writecsv(\"4.csv\", v4)\n",
    "f = open(\"4.dat\", \"w\")\n",
    "serialize(f, m4)\n",
    "close(f)\n",
    "m4[1].Vw"
   ]
  },
  {
   "cell_type": "code",
   "execution_count": 61,
   "metadata": {
    "collapsed": false
   },
   "outputs": [
    {
     "data": {
      "text/plain": [
       "Figure(PyObject <matplotlib.figure.Figure object at 0x114529e50>)"
      ]
     },
     "metadata": {},
     "output_type": "display_data"
    },
    {
     "data": {
      "image/png": "[encoded data removed]",
      "text/plain": [
       "Figure(PyObject <matplotlib.figure.Figure object at 0x113d05610>)"
      ]
     },
     "metadata": {},
     "output_type": "display_data"
    },
    {
     "data": {
      "text/plain": [
       "7x9 Array{Float64,2}:\n",
       " 0.0   0.0      0.0       0.0       0.0      0.0      0.0      0.0    0.0\n",
       " 0.0   0.0      0.0    1000.0     849.784  609.993  333.357  354.057  0.0\n",
       " 0.0   0.0      0.0       0.0       0.0    455.769    0.0      0.0    0.0\n",
       " 0.0  47.3272  44.908   107.731   257.772  376.243    0.0      0.0    0.0\n",
       " 0.0   0.0      0.0      45.6418    0.0      0.0      0.0      0.0    0.0\n",
       " 0.0   0.0      0.0      44.5638    0.0      0.0      0.0      0.0    0.0\n",
       " 0.0   0.0      0.0       0.0       0.0      0.0      0.0      0.0    0.0"
      ]
     },
     "execution_count": 61,
     "metadata": {},
     "output_type": "execute_result"
    }
   ],
   "source": [
    "m3, v3 = run_experiment(3, trials, iterations, mc_path_length, initial_positions, maze_definition)\n",
    "plot(v3)\n",
    "plot_data(m3[1])\n",
    "writecsv(\"3.csv\", v3)\n",
    "f = open(\"3.dat\", \"w\")\n",
    "serialize(f, m3)\n",
    "close(f)\n",
    "m3[1].Vw"
   ]
  },
  {
   "cell_type": "code",
   "execution_count": 62,
   "metadata": {
    "collapsed": false
   },
   "outputs": [
    {
     "data": {
      "text/plain": [
       "Figure(PyObject <matplotlib.figure.Figure object at 0x113d05d50>)"
      ]
     },
     "metadata": {},
     "output_type": "display_data"
    },
    {
     "data": {
      "image/png": "[encoded data removed]",
      "text/plain": [
       "Figure(PyObject <matplotlib.figure.Figure object at 0x11424e9d0>)"
      ]
     },
     "metadata": {},
     "output_type": "display_data"
    },
    {
     "data": {
      "text/plain": [
       "7x9 Array{Float64,2}:\n",
       " 0.0   0.0      0.0        0.0       0.0      0.0      0.0      0.0    0.0\n",
       " 0.0   0.0      0.0     1000.0     865.439  647.09   411.673  385.464  0.0\n",
       " 0.0   0.0      0.0        0.0       0.0    543.444    0.0      0.0    0.0\n",
       " 0.0  72.1978  65.4601   164.352   299.384  410.555    0.0      0.0    0.0\n",
       " 0.0   0.0      0.0       75.0903    0.0      0.0      0.0      0.0    0.0\n",
       " 0.0   0.0      0.0       72.0505    0.0      0.0      0.0      0.0    0.0\n",
       " 0.0   0.0      0.0        0.0       0.0      0.0      0.0      0.0    0.0"
      ]
     },
     "execution_count": 62,
     "metadata": {},
     "output_type": "execute_result"
    }
   ],
   "source": [
    "m2, v2 = run_experiment(2, trials, iterations, mc_path_length, initial_positions, maze_definition)\n",
    "plot(v2)\n",
    "plot_data(m2[1])\n",
    "writecsv(\"2.csv\", v2)\n",
    "f = open(\"2.dat\", \"w\")\n",
    "serialize(f, m2)\n",
    "close(f)\n",
    "m2[1].Vw"
   ]
  },
  {
   "cell_type": "code",
   "execution_count": 63,
   "metadata": {
    "collapsed": false
   },
   "outputs": [
    {
     "data": {
      "text/plain": [
       "Figure(PyObject <matplotlib.figure.Figure object at 0x113522950>)"
      ]
     },
     "metadata": {},
     "output_type": "display_data"
    },
    {
     "data": {
      "image/png": "[encoded data removed]",
      "text/plain": [
       "Figure(PyObject <matplotlib.figure.Figure object at 0x114e38dd0>)"
      ]
     },
     "metadata": {},
     "output_type": "display_data"
    },
    {
     "data": {
      "text/plain": [
       "7x9 Array{Float64,2}:\n",
       " 0.0    0.0    0.0     0.0    0.0      0.0      0.0      0.0    0.0\n",
       " 0.0    0.0    0.0  1000.0  996.377  519.738  483.557  510.541  0.0\n",
       " 0.0    0.0    0.0     0.0    0.0    508.945    0.0      0.0    0.0\n",
       " 0.0  -10.0  -10.0   -10.0  504.103  503.822    0.0      0.0    0.0\n",
       " 0.0    0.0    0.0   -10.0    0.0      0.0      0.0      0.0    0.0\n",
       " 0.0    0.0    0.0   -10.0    0.0      0.0      0.0      0.0    0.0\n",
       " 0.0    0.0    0.0     0.0    0.0      0.0      0.0      0.0    0.0"
      ]
     },
     "execution_count": 63,
     "metadata": {},
     "output_type": "execute_result"
    }
   ],
   "source": [
    "m1, v1 = run_experiment(1, trials, iterations, mc_path_length, initial_positions, maze_definition)\n",
    "plot(v1)\n",
    "plot_data(m1[1])\n",
    "writecsv(\"1.csv\", v1)\n",
    "f = open(\"1.dat\", \"w\")\n",
    "serialize(f, m1)\n",
    "close(f)\n",
    "m1[1].Vw"
   ]
  },
  {
   "cell_type": "code",
   "execution_count": 68,
   "metadata": {
    "collapsed": false
   },
   "outputs": [
    {
     "data": {
      "image/png": "[encoded data removed]",
      "text/plain": [
       "Figure(PyObject <matplotlib.figure.Figure object at 0x150e3d950>)"
      ]
     },
     "metadata": {},
     "output_type": "display_data"
    }
   ],
   "source": [
    "figure(figsize=(7,4))\n",
    "p4=plot(v4)\n",
    "p3=plot(v3)\n",
    "p2=plot(v2)\n",
    "p1=plot(v1)\n",
    "ylim([-11, 80])\n",
    "legend( [p4,p3,p2,p1], [\"k=4\",\"k=3\",\"k=2\",\"k=1\"], loc=4)\n",
    "\n",
    "savefig(\"/Users/zahedi/Dropbox/POMDPs/plots/plot.png\")"
   ]
  },
  {
   "cell_type": "code",
   "execution_count": 72,
   "metadata": {
    "collapsed": false
   },
   "outputs": [],
   "source": [
    "writecsv(\"/Users/zahedi/Dropbox/POMDPs/plots/1.csv\",v1)\n",
    "writecsv(\"/Users/zahedi/Dropbox/POMDPs/plots/2.csv\",v2)\n",
    "writecsv(\"/Users/zahedi/Dropbox/POMDPs/plots/3.csv\",v3)\n",
    "writecsv(\"/Users/zahedi/Dropbox/POMDPs/plots/4.csv\",v4)"
   ]
  },
  {
   "cell_type": "code",
   "execution_count": 70,
   "metadata": {
    "collapsed": false
   },
   "outputs": [
    {
     "data": {
      "text/plain": [
       "Figure(PyObject <matplotlib.figure.Figure object at 0x113130c90>)"
      ]
     },
     "metadata": {},
     "output_type": "display_data"
    },
    {
     "data": {
      "text/plain": [
       "Figure(PyObject <matplotlib.figure.Figure object at 0x118aecd10>)"
      ]
     },
     "metadata": {},
     "output_type": "display_data"
    },
    {
     "data": {
      "text/plain": [
       "Figure(PyObject <matplotlib.figure.Figure object at 0x11ee38bd0>)"
      ]
     },
     "metadata": {},
     "output_type": "display_data"
    },
    {
     "data": {
      "text/plain": [
       "Figure(PyObject <matplotlib.figure.Figure object at 0x14eeddf90>)"
      ]
     },
     "metadata": {},
     "output_type": "display_data"
    },
    {
     "data": {
      "text/plain": [
       "Figure(PyObject <matplotlib.figure.Figure object at 0x14dca2710>)"
      ]
     },
     "metadata": {},
     "output_type": "display_data"
    },
    {
     "data": {
      "text/plain": [
       "Figure(PyObject <matplotlib.figure.Figure object at 0x14c99cc90>)"
      ]
     },
     "metadata": {},
     "output_type": "display_data"
    },
    {
     "data": {
      "text/plain": [
       "Figure(PyObject <matplotlib.figure.Figure object at 0x149bb8190>)"
      ]
     },
     "metadata": {},
     "output_type": "display_data"
    },
    {
     "data": {
      "text/plain": [
       "Figure(PyObject <matplotlib.figure.Figure object at 0x153ee4f10>)"
      ]
     },
     "metadata": {},
     "output_type": "display_data"
    },
    {
     "data": {
      "text/plain": [
       "Figure(PyObject <matplotlib.figure.Figure object at 0x1541ba490>)"
      ]
     },
     "metadata": {},
     "output_type": "display_data"
    },
    {
     "data": {
      "text/plain": [
       "Figure(PyObject <matplotlib.figure.Figure object at 0x15449c050>)"
      ]
     },
     "metadata": {},
     "output_type": "display_data"
    },
    {
     "data": {
      "text/plain": [
       "Figure(PyObject <matplotlib.figure.Figure object at 0x1547a14d0>)"
      ]
     },
     "metadata": {},
     "output_type": "display_data"
    },
    {
     "data": {
      "text/plain": [
       "Figure(PyObject <matplotlib.figure.Figure object at 0x154a0e290>)"
      ]
     },
     "metadata": {},
     "output_type": "display_data"
    },
    {
     "data": {
      "text/plain": [
       "Figure(PyObject <matplotlib.figure.Figure object at 0x154cda2d0>)"
      ]
     },
     "metadata": {},
     "output_type": "display_data"
    },
    {
     "data": {
      "text/plain": [
       "Figure(PyObject <matplotlib.figure.Figure object at 0x154fba110>)"
      ]
     },
     "metadata": {},
     "output_type": "display_data"
    },
    {
     "data": {
      "text/plain": [
       "Figure(PyObject <matplotlib.figure.Figure object at 0x1552c0590>)"
      ]
     },
     "metadata": {},
     "output_type": "display_data"
    },
    {
     "data": {
      "text/plain": [
       "Figure(PyObject <matplotlib.figure.Figure object at 0x15552c350>)"
      ]
     },
     "metadata": {},
     "output_type": "display_data"
    },
    {
     "data": {
      "text/plain": [
       "Figure(PyObject <matplotlib.figure.Figure object at 0x1557ef450>)"
      ]
     },
     "metadata": {},
     "output_type": "display_data"
    },
    {
     "data": {
      "text/plain": [
       "Figure(PyObject <matplotlib.figure.Figure object at 0x155ac0250>)"
      ]
     },
     "metadata": {},
     "output_type": "display_data"
    },
    {
     "data": {
      "text/plain": [
       "Figure(PyObject <matplotlib.figure.Figure object at 0x155defdd0>)"
      ]
     },
     "metadata": {},
     "output_type": "display_data"
    },
    {
     "data": {
      "text/plain": [
       "Figure(PyObject <matplotlib.figure.Figure object at 0x156055350>)"
      ]
     },
     "metadata": {},
     "output_type": "display_data"
    },
    {
     "data": {
      "text/plain": [
       "Figure(PyObject <matplotlib.figure.Figure object at 0x156325890>)"
      ]
     },
     "metadata": {},
     "output_type": "display_data"
    },
    {
     "data": {
      "text/plain": [
       "Figure(PyObject <matplotlib.figure.Figure object at 0x1565e8a10>)"
      ]
     },
     "metadata": {},
     "output_type": "display_data"
    },
    {
     "data": {
      "text/plain": [
       "Figure(PyObject <matplotlib.figure.Figure object at 0x1569181d0>)"
      ]
     },
     "metadata": {},
     "output_type": "display_data"
    },
    {
     "data": {
      "text/plain": [
       "Figure(PyObject <matplotlib.figure.Figure object at 0x156b7d5d0>)"
      ]
     },
     "metadata": {},
     "output_type": "display_data"
    },
    {
     "data": {
      "text/plain": [
       "Figure(PyObject <matplotlib.figure.Figure object at 0x156e4fb10>)"
      ]
     },
     "metadata": {},
     "output_type": "display_data"
    },
    {
     "data": {
      "text/plain": [
       "Figure(PyObject <matplotlib.figure.Figure object at 0x15711cf50>)"
      ]
     },
     "metadata": {},
     "output_type": "display_data"
    },
    {
     "data": {
      "text/plain": [
       "Figure(PyObject <matplotlib.figure.Figure object at 0x1573f9ad0>)"
      ]
     },
     "metadata": {},
     "output_type": "display_data"
    },
    {
     "data": {
      "text/plain": [
       "Figure(PyObject <matplotlib.figure.Figure object at 0x1576ac850>)"
      ]
     },
     "metadata": {},
     "output_type": "display_data"
    },
    {
     "data": {
      "text/plain": [
       "Figure(PyObject <matplotlib.figure.Figure object at 0x15797dd90>)"
      ]
     },
     "metadata": {},
     "output_type": "display_data"
    },
    {
     "data": {
      "text/plain": [
       "Figure(PyObject <matplotlib.figure.Figure object at 0x157c62850>)"
      ]
     },
     "metadata": {},
     "output_type": "display_data"
    },
    {
     "data": {
      "text/plain": [
       "Figure(PyObject <matplotlib.figure.Figure object at 0x157f73ed0>)"
      ]
     },
     "metadata": {},
     "output_type": "display_data"
    },
    {
     "data": {
      "text/plain": [
       "Figure(PyObject <matplotlib.figure.Figure object at 0x1581d9b50>)"
      ]
     },
     "metadata": {},
     "output_type": "display_data"
    },
    {
     "data": {
      "text/plain": [
       "Figure(PyObject <matplotlib.figure.Figure object at 0x158307490>)"
      ]
     },
     "metadata": {},
     "output_type": "display_data"
    },
    {
     "data": {
      "text/plain": [
       "Figure(PyObject <matplotlib.figure.Figure object at 0x15878ead0>)"
      ]
     },
     "metadata": {},
     "output_type": "display_data"
    },
    {
     "data": {
      "text/plain": [
       "Figure(PyObject <matplotlib.figure.Figure object at 0x158aabf50>)"
      ]
     },
     "metadata": {},
     "output_type": "display_data"
    },
    {
     "data": {
      "text/plain": [
       "Figure(PyObject <matplotlib.figure.Figure object at 0x158d06dd0>)"
      ]
     },
     "metadata": {},
     "output_type": "display_data"
    },
    {
     "data": {
      "text/plain": [
       "Figure(PyObject <matplotlib.figure.Figure object at 0x158dbee50>)"
      ]
     },
     "metadata": {},
     "output_type": "display_data"
    },
    {
     "data": {
      "text/plain": [
       "Figure(PyObject <matplotlib.figure.Figure object at 0x1592bcd50>)"
      ]
     },
     "metadata": {},
     "output_type": "display_data"
    },
    {
     "data": {
      "text/plain": [
       "Figure(PyObject <matplotlib.figure.Figure object at 0x1595dab10>)"
      ]
     },
     "metadata": {},
     "output_type": "display_data"
    },
    {
     "data": {
      "text/plain": [
       "Figure(PyObject <matplotlib.figure.Figure object at 0x15983e090>)"
      ]
     },
     "metadata": {},
     "output_type": "display_data"
    },
    {
     "data": {
      "text/plain": [
       "Figure(PyObject <matplotlib.figure.Figure object at 0x159895590>)"
      ]
     },
     "metadata": {},
     "output_type": "display_data"
    },
    {
     "data": {
      "text/plain": [
       "Figure(PyObject <matplotlib.figure.Figure object at 0x159de8fd0>)"
      ]
     },
     "metadata": {},
     "output_type": "display_data"
    },
    {
     "data": {
      "text/plain": [
       "Figure(PyObject <matplotlib.figure.Figure object at 0x15a106d90>)"
      ]
     },
     "metadata": {},
     "output_type": "display_data"
    },
    {
     "data": {
      "text/plain": [
       "Figure(PyObject <matplotlib.figure.Figure object at 0x15a36d310>)"
      ]
     },
     "metadata": {},
     "output_type": "display_data"
    },
    {
     "data": {
      "text/plain": [
       "Figure(PyObject <matplotlib.figure.Figure object at 0x15a63d850>)"
      ]
     },
     "metadata": {},
     "output_type": "display_data"
    },
    {
     "data": {
      "text/plain": [
       "Figure(PyObject <matplotlib.figure.Figure object at 0x15a900b50>)"
      ]
     },
     "metadata": {},
     "output_type": "display_data"
    },
    {
     "data": {
      "text/plain": [
       "Figure(PyObject <matplotlib.figure.Figure object at 0x15ac34190>)"
      ]
     },
     "metadata": {},
     "output_type": "display_data"
    },
    {
     "data": {
      "text/plain": [
       "Figure(PyObject <matplotlib.figure.Figure object at 0x15ae98590>)"
      ]
     },
     "metadata": {},
     "output_type": "display_data"
    },
    {
     "data": {
      "text/plain": [
       "Figure(PyObject <matplotlib.figure.Figure object at 0x15b169ad0>)"
      ]
     },
     "metadata": {},
     "output_type": "display_data"
    },
    {
     "data": {
      "text/plain": [
       "Figure(PyObject <matplotlib.figure.Figure object at 0x15b42e750>)"
      ]
     },
     "metadata": {},
     "output_type": "display_data"
    },
    {
     "data": {
      "text/plain": [
       "Figure(PyObject <matplotlib.figure.Figure object at 0x15b714a90>)"
      ]
     },
     "metadata": {},
     "output_type": "display_data"
    },
    {
     "data": {
      "text/plain": [
       "Figure(PyObject <matplotlib.figure.Figure object at 0x15a3b88d0>)"
      ]
     },
     "metadata": {},
     "output_type": "display_data"
    },
    {
     "data": {
      "text/plain": [
       "Figure(PyObject <matplotlib.figure.Figure object at 0x159125210>)"
      ]
     },
     "metadata": {},
     "output_type": "display_data"
    },
    {
     "data": {
      "text/plain": [
       "Figure(PyObject <matplotlib.figure.Figure object at 0x157e061d0>)"
      ]
     },
     "metadata": {},
     "output_type": "display_data"
    },
    {
     "data": {
      "text/plain": [
       "Figure(PyObject <matplotlib.figure.Figure object at 0x156924610>)"
      ]
     },
     "metadata": {},
     "output_type": "display_data"
    },
    {
     "data": {
      "text/plain": [
       "Figure(PyObject <matplotlib.figure.Figure object at 0x1559cf210>)"
      ]
     },
     "metadata": {},
     "output_type": "display_data"
    },
    {
     "data": {
      "text/plain": [
       "Figure(PyObject <matplotlib.figure.Figure object at 0x1546c3350>)"
      ]
     },
     "metadata": {},
     "output_type": "display_data"
    },
    {
     "data": {
      "text/plain": [
       "Figure(PyObject <matplotlib.figure.Figure object at 0x1530f0dd0>)"
      ]
     },
     "metadata": {},
     "output_type": "display_data"
    },
    {
     "data": {
      "text/plain": [
       "Figure(PyObject <matplotlib.figure.Figure object at 0x1529c9c10>)"
      ]
     },
     "metadata": {},
     "output_type": "display_data"
    },
    {
     "data": {
      "text/plain": [
       "Figure(PyObject <matplotlib.figure.Figure object at 0x152c0b590>)"
      ]
     },
     "metadata": {},
     "output_type": "display_data"
    },
    {
     "data": {
      "text/plain": [
       "Figure(PyObject <matplotlib.figure.Figure object at 0x15a87d410>)"
      ]
     },
     "metadata": {},
     "output_type": "display_data"
    },
    {
     "data": {
      "text/plain": [
       "Figure(PyObject <matplotlib.figure.Figure object at 0x151f2c150>)"
      ]
     },
     "metadata": {},
     "output_type": "display_data"
    },
    {
     "data": {
      "text/plain": [
       "Figure(PyObject <matplotlib.figure.Figure object at 0x151879450>)"
      ]
     },
     "metadata": {},
     "output_type": "display_data"
    },
    {
     "data": {
      "text/plain": [
       "Figure(PyObject <matplotlib.figure.Figure object at 0x151388f10>)"
      ]
     },
     "metadata": {},
     "output_type": "display_data"
    },
    {
     "data": {
      "text/plain": [
       "Figure(PyObject <matplotlib.figure.Figure object at 0x150fd8bd0>)"
      ]
     },
     "metadata": {},
     "output_type": "display_data"
    },
    {
     "data": {
      "text/plain": [
       "Figure(PyObject <matplotlib.figure.Figure object at 0x150572f90>)"
      ]
     },
     "metadata": {},
     "output_type": "display_data"
    },
    {
     "data": {
      "text/plain": [
       "Figure(PyObject <matplotlib.figure.Figure object at 0x1502113d0>)"
      ]
     },
     "metadata": {},
     "output_type": "display_data"
    },
    {
     "data": {
      "text/plain": [
       "Figure(PyObject <matplotlib.figure.Figure object at 0x14fe4a9d0>)"
      ]
     },
     "metadata": {},
     "output_type": "display_data"
    },
    {
     "data": {
      "text/plain": [
       "Figure(PyObject <matplotlib.figure.Figure object at 0x14f988550>)"
      ]
     },
     "metadata": {},
     "output_type": "display_data"
    },
    {
     "data": {
      "text/plain": [
       "Figure(PyObject <matplotlib.figure.Figure object at 0x15168c910>)"
      ]
     },
     "metadata": {},
     "output_type": "display_data"
    },
    {
     "data": {
      "text/plain": [
       "Figure(PyObject <matplotlib.figure.Figure object at 0x14f881f10>)"
      ]
     },
     "metadata": {},
     "output_type": "display_data"
    },
    {
     "data": {
      "text/plain": [
       "Figure(PyObject <matplotlib.figure.Figure object at 0x14f4dc850>)"
      ]
     },
     "metadata": {},
     "output_type": "display_data"
    },
    {
     "data": {
      "text/plain": [
       "Figure(PyObject <matplotlib.figure.Figure object at 0x14eded290>)"
      ]
     },
     "metadata": {},
     "output_type": "display_data"
    },
    {
     "data": {
      "text/plain": [
       "Figure(PyObject <matplotlib.figure.Figure object at 0x14eb61f10>)"
      ]
     },
     "metadata": {},
     "output_type": "display_data"
    },
    {
     "data": {
      "text/plain": [
       "Figure(PyObject <matplotlib.figure.Figure object at 0x14e6e6650>)"
      ]
     },
     "metadata": {},
     "output_type": "display_data"
    },
    {
     "data": {
      "text/plain": [
       "Figure(PyObject <matplotlib.figure.Figure object at 0x14e336690>)"
      ]
     },
     "metadata": {},
     "output_type": "display_data"
    },
    {
     "data": {
      "text/plain": [
       "Figure(PyObject <matplotlib.figure.Figure object at 0x14de24290>)"
      ]
     },
     "metadata": {},
     "output_type": "display_data"
    },
    {
     "data": {
      "text/plain": [
       "Figure(PyObject <matplotlib.figure.Figure object at 0x14da591d0>)"
      ]
     },
     "metadata": {},
     "output_type": "display_data"
    },
    {
     "data": {
      "text/plain": [
       "Figure(PyObject <matplotlib.figure.Figure object at 0x14d742850>)"
      ]
     },
     "metadata": {},
     "output_type": "display_data"
    },
    {
     "data": {
      "text/plain": [
       "Figure(PyObject <matplotlib.figure.Figure object at 0x14d1fa450>)"
      ]
     },
     "metadata": {},
     "output_type": "display_data"
    },
    {
     "data": {
      "text/plain": [
       "Figure(PyObject <matplotlib.figure.Figure object at 0x14f24cdd0>)"
      ]
     },
     "metadata": {},
     "output_type": "display_data"
    },
    {
     "data": {
      "text/plain": [
       "Figure(PyObject <matplotlib.figure.Figure object at 0x14d00a6d0>)"
      ]
     },
     "metadata": {},
     "output_type": "display_data"
    },
    {
     "data": {
      "text/plain": [
       "Figure(PyObject <matplotlib.figure.Figure object at 0x14cce7150>)"
      ]
     },
     "metadata": {},
     "output_type": "display_data"
    },
    {
     "data": {
      "text/plain": [
       "Figure(PyObject <matplotlib.figure.Figure object at 0x14c820c10>)"
      ]
     },
     "metadata": {},
     "output_type": "display_data"
    },
    {
     "data": {
      "text/plain": [
       "Figure(PyObject <matplotlib.figure.Figure object at 0x14c439690>)"
      ]
     },
     "metadata": {},
     "output_type": "display_data"
    },
    {
     "data": {
      "text/plain": [
       "Figure(PyObject <matplotlib.figure.Figure object at 0x14bfdc110>)"
      ]
     },
     "metadata": {},
     "output_type": "display_data"
    },
    {
     "data": {
      "text/plain": [
       "Figure(PyObject <matplotlib.figure.Figure object at 0x14b6ff8d0>)"
      ]
     },
     "metadata": {},
     "output_type": "display_data"
    },
    {
     "data": {
      "text/plain": [
       "Figure(PyObject <matplotlib.figure.Figure object at 0x14b5f8150>)"
      ]
     },
     "metadata": {},
     "output_type": "display_data"
    },
    {
     "data": {
      "text/plain": [
       "Figure(PyObject <matplotlib.figure.Figure object at 0x14adac810>)"
      ]
     },
     "metadata": {},
     "output_type": "display_data"
    },
    {
     "data": {
      "text/plain": [
       "Figure(PyObject <matplotlib.figure.Figure object at 0x14a954a10>)"
      ]
     },
     "metadata": {},
     "output_type": "display_data"
    },
    {
     "data": {
      "text/plain": [
       "Figure(PyObject <matplotlib.figure.Figure object at 0x14a44ba90>)"
      ]
     },
     "metadata": {},
     "output_type": "display_data"
    },
    {
     "data": {
      "text/plain": [
       "Figure(PyObject <matplotlib.figure.Figure object at 0x149f24190>)"
      ]
     },
     "metadata": {},
     "output_type": "display_data"
    },
    {
     "data": {
      "text/plain": [
       "Figure(PyObject <matplotlib.figure.Figure object at 0x14ac7ccd0>)"
      ]
     },
     "metadata": {},
     "output_type": "display_data"
    },
    {
     "data": {
      "text/plain": [
       "Figure(PyObject <matplotlib.figure.Figure object at 0x14d64b350>)"
      ]
     },
     "metadata": {},
     "output_type": "display_data"
    },
    {
     "data": {
      "text/plain": [
       "Figure(PyObject <matplotlib.figure.Figure object at 0x1499138d0>)"
      ]
     },
     "metadata": {},
     "output_type": "display_data"
    },
    {
     "data": {
      "text/plain": [
       "Figure(PyObject <matplotlib.figure.Figure object at 0x14971e7d0>)"
      ]
     },
     "metadata": {},
     "output_type": "display_data"
    },
    {
     "data": {
      "text/plain": [
       "Figure(PyObject <matplotlib.figure.Figure object at 0x14915bf10>)"
      ]
     },
     "metadata": {},
     "output_type": "display_data"
    },
    {
     "data": {
      "text/plain": [
       "Figure(PyObject <matplotlib.figure.Figure object at 0x148b8c2d0>)"
      ]
     },
     "metadata": {},
     "output_type": "display_data"
    },
    {
     "data": {
      "text/plain": [
       "Figure(PyObject <matplotlib.figure.Figure object at 0x1484b37d0>)"
      ]
     },
     "metadata": {},
     "output_type": "display_data"
    },
    {
     "data": {
      "text/plain": [
       "Figure(PyObject <matplotlib.figure.Figure object at 0x147f4edd0>)"
      ]
     },
     "metadata": {},
     "output_type": "display_data"
    },
    {
     "data": {
      "text/plain": [
       "Figure(PyObject <matplotlib.figure.Figure object at 0x147ab2ad0>)"
      ]
     },
     "metadata": {},
     "output_type": "display_data"
    },
    {
     "data": {
      "text/plain": [
       "Figure(PyObject <matplotlib.figure.Figure object at 0x14766a890>)"
      ]
     },
     "metadata": {},
     "output_type": "display_data"
    },
    {
     "data": {
      "text/plain": [
       "Figure(PyObject <matplotlib.figure.Figure object at 0x146f77dd0>)"
      ]
     },
     "metadata": {},
     "output_type": "display_data"
    },
    {
     "data": {
      "text/plain": [
       "Figure(PyObject <matplotlib.figure.Figure object at 0x146bf5350>)"
      ]
     },
     "metadata": {},
     "output_type": "display_data"
    },
    {
     "data": {
      "text/plain": [
       "Figure(PyObject <matplotlib.figure.Figure object at 0x1466f8890>)"
      ]
     },
     "metadata": {},
     "output_type": "display_data"
    },
    {
     "data": {
      "text/plain": [
       "Figure(PyObject <matplotlib.figure.Figure object at 0x146087dd0>)"
      ]
     },
     "metadata": {},
     "output_type": "display_data"
    },
    {
     "data": {
      "text/plain": [
       "Figure(PyObject <matplotlib.figure.Figure object at 0x147a20090>)"
      ]
     },
     "metadata": {},
     "output_type": "display_data"
    },
    {
     "data": {
      "text/plain": [
       "Figure(PyObject <matplotlib.figure.Figure object at 0x14b6efd90>)"
      ]
     },
     "metadata": {},
     "output_type": "display_data"
    },
    {
     "data": {
      "text/plain": [
       "Figure(PyObject <matplotlib.figure.Figure object at 0x145c03ed0>)"
      ]
     },
     "metadata": {},
     "output_type": "display_data"
    },
    {
     "data": {
      "text/plain": [
       "Figure(PyObject <matplotlib.figure.Figure object at 0x1456adad0>)"
      ]
     },
     "metadata": {},
     "output_type": "display_data"
    },
    {
     "data": {
      "text/plain": [
       "Figure(PyObject <matplotlib.figure.Figure object at 0x144d56e50>)"
      ]
     },
     "metadata": {},
     "output_type": "display_data"
    },
    {
     "data": {
      "text/plain": [
       "Figure(PyObject <matplotlib.figure.Figure object at 0x1447b4710>)"
      ]
     },
     "metadata": {},
     "output_type": "display_data"
    },
    {
     "data": {
      "text/plain": [
       "Figure(PyObject <matplotlib.figure.Figure object at 0x1442c4c90>)"
      ]
     },
     "metadata": {},
     "output_type": "display_data"
    },
    {
     "data": {
      "text/plain": [
       "Figure(PyObject <matplotlib.figure.Figure object at 0x143a1fa10>)"
      ]
     },
     "metadata": {},
     "output_type": "display_data"
    },
    {
     "data": {
      "text/plain": [
       "Figure(PyObject <matplotlib.figure.Figure object at 0x1433a7cd0>)"
      ]
     },
     "metadata": {},
     "output_type": "display_data"
    },
    {
     "data": {
      "text/plain": [
       "Figure(PyObject <matplotlib.figure.Figure object at 0x142f79450>)"
      ]
     },
     "metadata": {},
     "output_type": "display_data"
    },
    {
     "data": {
      "text/plain": [
       "Figure(PyObject <matplotlib.figure.Figure object at 0x142c58490>)"
      ]
     },
     "metadata": {},
     "output_type": "display_data"
    },
    {
     "data": {
      "text/plain": [
       "Figure(PyObject <matplotlib.figure.Figure object at 0x14230a310>)"
      ]
     },
     "metadata": {},
     "output_type": "display_data"
    },
    {
     "data": {
      "text/plain": [
       "Figure(PyObject <matplotlib.figure.Figure object at 0x141d5fd50>)"
      ]
     },
     "metadata": {},
     "output_type": "display_data"
    },
    {
     "data": {
      "text/plain": [
       "Figure(PyObject <matplotlib.figure.Figure object at 0x1418555d0>)"
      ]
     },
     "metadata": {},
     "output_type": "display_data"
    },
    {
     "data": {
      "text/plain": [
       "Figure(PyObject <matplotlib.figure.Figure object at 0x14137a8d0>)"
      ]
     },
     "metadata": {},
     "output_type": "display_data"
    },
    {
     "data": {
      "text/plain": [
       "Figure(PyObject <matplotlib.figure.Figure object at 0x1409b2e90>)"
      ]
     },
     "metadata": {},
     "output_type": "display_data"
    },
    {
     "data": {
      "text/plain": [
       "Figure(PyObject <matplotlib.figure.Figure object at 0x143413f50>)"
      ]
     },
     "metadata": {},
     "output_type": "display_data"
    },
    {
     "data": {
      "text/plain": [
       "Figure(PyObject <matplotlib.figure.Figure object at 0x149532e10>)"
      ]
     },
     "metadata": {},
     "output_type": "display_data"
    },
    {
     "data": {
      "text/plain": [
       "Figure(PyObject <matplotlib.figure.Figure object at 0x1459b7b90>)"
      ]
     },
     "metadata": {},
     "output_type": "display_data"
    },
    {
     "data": {
      "text/plain": [
       "Figure(PyObject <matplotlib.figure.Figure object at 0x1400ef650>)"
      ]
     },
     "metadata": {},
     "output_type": "display_data"
    },
    {
     "data": {
      "text/plain": [
       "Figure(PyObject <matplotlib.figure.Figure object at 0x13f9fbf90>)"
      ]
     },
     "metadata": {},
     "output_type": "display_data"
    },
    {
     "data": {
      "text/plain": [
       "Figure(PyObject <matplotlib.figure.Figure object at 0x13f21c8d0>)"
      ]
     },
     "metadata": {},
     "output_type": "display_data"
    },
    {
     "data": {
      "text/plain": [
       "Figure(PyObject <matplotlib.figure.Figure object at 0x13ed99a90>)"
      ]
     },
     "metadata": {},
     "output_type": "display_data"
    },
    {
     "data": {
      "text/plain": [
       "Figure(PyObject <matplotlib.figure.Figure object at 0x13e6d5b90>)"
      ]
     },
     "metadata": {},
     "output_type": "display_data"
    },
    {
     "data": {
      "text/plain": [
       "Figure(PyObject <matplotlib.figure.Figure object at 0x13df2be90>)"
      ]
     },
     "metadata": {},
     "output_type": "display_data"
    },
    {
     "data": {
      "text/plain": [
       "Figure(PyObject <matplotlib.figure.Figure object at 0x13d972990>)"
      ]
     },
     "metadata": {},
     "output_type": "display_data"
    },
    {
     "data": {
      "text/plain": [
       "Figure(PyObject <matplotlib.figure.Figure object at 0x13d3809d0>)"
      ]
     },
     "metadata": {},
     "output_type": "display_data"
    },
    {
     "data": {
      "text/plain": [
       "Figure(PyObject <matplotlib.figure.Figure object at 0x13cebed50>)"
      ]
     },
     "metadata": {},
     "output_type": "display_data"
    },
    {
     "data": {
      "text/plain": [
       "Figure(PyObject <matplotlib.figure.Figure object at 0x13c596d90>)"
      ]
     },
     "metadata": {},
     "output_type": "display_data"
    },
    {
     "data": {
      "text/plain": [
       "Figure(PyObject <matplotlib.figure.Figure object at 0x13c0dc310>)"
      ]
     },
     "metadata": {},
     "output_type": "display_data"
    },
    {
     "data": {
      "text/plain": [
       "Figure(PyObject <matplotlib.figure.Figure object at 0x13b98bf10>)"
      ]
     },
     "metadata": {},
     "output_type": "display_data"
    },
    {
     "data": {
      "text/plain": [
       "Figure(PyObject <matplotlib.figure.Figure object at 0x13b3e0850>)"
      ]
     },
     "metadata": {},
     "output_type": "display_data"
    },
    {
     "data": {
      "text/plain": [
       "Figure(PyObject <matplotlib.figure.Figure object at 0x13ac14f50>)"
      ]
     },
     "metadata": {},
     "output_type": "display_data"
    },
    {
     "data": {
      "text/plain": [
       "Figure(PyObject <matplotlib.figure.Figure object at 0x13cefb150>)"
      ]
     },
     "metadata": {},
     "output_type": "display_data"
    },
    {
     "data": {
      "text/plain": [
       "Figure(PyObject <matplotlib.figure.Figure object at 0x13f13e6d0>)"
      ]
     },
     "metadata": {},
     "output_type": "display_data"
    },
    {
     "data": {
      "text/plain": [
       "Figure(PyObject <matplotlib.figure.Figure object at 0x13b3e07d0>)"
      ]
     },
     "metadata": {},
     "output_type": "display_data"
    },
    {
     "data": {
      "text/plain": [
       "Figure(PyObject <matplotlib.figure.Figure object at 0x13a15d110>)"
      ]
     },
     "metadata": {},
     "output_type": "display_data"
    },
    {
     "data": {
      "text/plain": [
       "Figure(PyObject <matplotlib.figure.Figure object at 0x139b8ded0>)"
      ]
     },
     "metadata": {},
     "output_type": "display_data"
    },
    {
     "data": {
      "text/plain": [
       "Figure(PyObject <matplotlib.figure.Figure object at 0x13955d890>)"
      ]
     },
     "metadata": {},
     "output_type": "display_data"
    },
    {
     "data": {
      "text/plain": [
       "Figure(PyObject <matplotlib.figure.Figure object at 0x138fb28d0>)"
      ]
     },
     "metadata": {},
     "output_type": "display_data"
    },
    {
     "data": {
      "text/plain": [
       "Figure(PyObject <matplotlib.figure.Figure object at 0x13893ae50>)"
      ]
     },
     "metadata": {},
     "output_type": "display_data"
    },
    {
     "data": {
      "text/plain": [
       "Figure(PyObject <matplotlib.figure.Figure object at 0x13836d650>)"
      ]
     },
     "metadata": {},
     "output_type": "display_data"
    },
    {
     "data": {
      "text/plain": [
       "Figure(PyObject <matplotlib.figure.Figure object at 0x1381bc910>)"
      ]
     },
     "metadata": {},
     "output_type": "display_data"
    },
    {
     "data": {
      "text/plain": [
       "Figure(PyObject <matplotlib.figure.Figure object at 0x13758d990>)"
      ]
     },
     "metadata": {},
     "output_type": "display_data"
    },
    {
     "data": {
      "text/plain": [
       "Figure(PyObject <matplotlib.figure.Figure object at 0x136f03b10>)"
      ]
     },
     "metadata": {},
     "output_type": "display_data"
    },
    {
     "data": {
      "text/plain": [
       "Figure(PyObject <matplotlib.figure.Figure object at 0x13698cfd0>)"
      ]
     },
     "metadata": {},
     "output_type": "display_data"
    },
    {
     "data": {
      "text/plain": [
       "Figure(PyObject <matplotlib.figure.Figure object at 0x1361f8b90>)"
      ]
     },
     "metadata": {},
     "output_type": "display_data"
    },
    {
     "data": {
      "text/plain": [
       "Figure(PyObject <matplotlib.figure.Figure object at 0x1355f0e50>)"
      ]
     },
     "metadata": {},
     "output_type": "display_data"
    },
    {
     "data": {
      "text/plain": [
       "Figure(PyObject <matplotlib.figure.Figure object at 0x134ea7e50>)"
      ]
     },
     "metadata": {},
     "output_type": "display_data"
    },
    {
     "data": {
      "text/plain": [
       "Figure(PyObject <matplotlib.figure.Figure object at 0x13493acd0>)"
      ]
     },
     "metadata": {},
     "output_type": "display_data"
    },
    {
     "data": {
      "text/plain": [
       "Figure(PyObject <matplotlib.figure.Figure object at 0x134405990>)"
      ]
     },
     "metadata": {},
     "output_type": "display_data"
    },
    {
     "data": {
      "text/plain": [
       "Figure(PyObject <matplotlib.figure.Figure object at 0x133caa490>)"
      ]
     },
     "metadata": {},
     "output_type": "display_data"
    },
    {
     "data": {
      "text/plain": [
       "Figure(PyObject <matplotlib.figure.Figure object at 0x1334e8f50>)"
      ]
     },
     "metadata": {},
     "output_type": "display_data"
    },
    {
     "data": {
      "text/plain": [
       "Figure(PyObject <matplotlib.figure.Figure object at 0x135066790>)"
      ]
     },
     "metadata": {},
     "output_type": "display_data"
    },
    {
     "data": {
      "text/plain": [
       "Figure(PyObject <matplotlib.figure.Figure object at 0x1380dd0d0>)"
      ]
     },
     "metadata": {},
     "output_type": "display_data"
    },
    {
     "data": {
      "text/plain": [
       "Figure(PyObject <matplotlib.figure.Figure object at 0x13d6b6910>)"
      ]
     },
     "metadata": {},
     "output_type": "display_data"
    },
    {
     "data": {
      "text/plain": [
       "Figure(PyObject <matplotlib.figure.Figure object at 0x132f790d0>)"
      ]
     },
     "metadata": {},
     "output_type": "display_data"
    },
    {
     "data": {
      "text/plain": [
       "Figure(PyObject <matplotlib.figure.Figure object at 0x132aa0dd0>)"
      ]
     },
     "metadata": {},
     "output_type": "display_data"
    },
    {
     "data": {
      "text/plain": [
       "Figure(PyObject <matplotlib.figure.Figure object at 0x1321b6110>)"
      ]
     },
     "metadata": {},
     "output_type": "display_data"
    },
    {
     "data": {
      "text/plain": [
       "Figure(PyObject <matplotlib.figure.Figure object at 0x13200b410>)"
      ]
     },
     "metadata": {},
     "output_type": "display_data"
    },
    {
     "data": {
      "text/plain": [
       "Figure(PyObject <matplotlib.figure.Figure object at 0x1315e1850>)"
      ]
     },
     "metadata": {},
     "output_type": "display_data"
    },
    {
     "data": {
      "text/plain": [
       "Figure(PyObject <matplotlib.figure.Figure object at 0x130ea9d90>)"
      ]
     },
     "metadata": {},
     "output_type": "display_data"
    },
    {
     "data": {
      "text/plain": [
       "Figure(PyObject <matplotlib.figure.Figure object at 0x130b61f90>)"
      ]
     },
     "metadata": {},
     "output_type": "display_data"
    },
    {
     "data": {
      "text/plain": [
       "Figure(PyObject <matplotlib.figure.Figure object at 0x13022dc50>)"
      ]
     },
     "metadata": {},
     "output_type": "display_data"
    },
    {
     "data": {
      "text/plain": [
       "Figure(PyObject <matplotlib.figure.Figure object at 0x12fcb8e90>)"
      ]
     },
     "metadata": {},
     "output_type": "display_data"
    },
    {
     "data": {
      "text/plain": [
       "Figure(PyObject <matplotlib.figure.Figure object at 0x12f519990>)"
      ]
     },
     "metadata": {},
     "output_type": "display_data"
    },
    {
     "data": {
      "text/plain": [
       "Figure(PyObject <matplotlib.figure.Figure object at 0x12edcd050>)"
      ]
     },
     "metadata": {},
     "output_type": "display_data"
    },
    {
     "data": {
      "text/plain": [
       "Figure(PyObject <matplotlib.figure.Figure object at 0x12e908a90>)"
      ]
     },
     "metadata": {},
     "output_type": "display_data"
    },
    {
     "data": {
      "text/plain": [
       "Figure(PyObject <matplotlib.figure.Figure object at 0x12df7fb90>)"
      ]
     },
     "metadata": {},
     "output_type": "display_data"
    },
    {
     "data": {
      "text/plain": [
       "Figure(PyObject <matplotlib.figure.Figure object at 0x12d8d8d10>)"
      ]
     },
     "metadata": {},
     "output_type": "display_data"
    },
    {
     "data": {
      "text/plain": [
       "Figure(PyObject <matplotlib.figure.Figure object at 0x12d18fcd0>)"
      ]
     },
     "metadata": {},
     "output_type": "display_data"
    },
    {
     "data": {
      "text/plain": [
       "Figure(PyObject <matplotlib.figure.Figure object at 0x12cbe8210>)"
      ]
     },
     "metadata": {},
     "output_type": "display_data"
    },
    {
     "data": {
      "text/plain": [
       "Figure(PyObject <matplotlib.figure.Figure object at 0x12c46f290>)"
      ]
     },
     "metadata": {},
     "output_type": "display_data"
    },
    {
     "data": {
      "text/plain": [
       "Figure(PyObject <matplotlib.figure.Figure object at 0x12bf80490>)"
      ]
     },
     "metadata": {},
     "output_type": "display_data"
    },
    {
     "data": {
      "text/plain": [
       "Figure(PyObject <matplotlib.figure.Figure object at 0x12b766b90>)"
      ]
     },
     "metadata": {},
     "output_type": "display_data"
    },
    {
     "data": {
      "text/plain": [
       "Figure(PyObject <matplotlib.figure.Figure object at 0x12b18d990>)"
      ]
     },
     "metadata": {},
     "output_type": "display_data"
    },
    {
     "data": {
      "text/plain": [
       "Figure(PyObject <matplotlib.figure.Figure object at 0x12b306b10>)"
      ]
     },
     "metadata": {},
     "output_type": "display_data"
    },
    {
     "data": {
      "text/plain": [
       "Figure(PyObject <matplotlib.figure.Figure object at 0x1309c30d0>)"
      ]
     },
     "metadata": {},
     "output_type": "display_data"
    },
    {
     "data": {
      "text/plain": [
       "Figure(PyObject <matplotlib.figure.Figure object at 0x137b504d0>)"
      ]
     },
     "metadata": {},
     "output_type": "display_data"
    },
    {
     "data": {
      "text/plain": [
       "Figure(PyObject <matplotlib.figure.Figure object at 0x12a9d8a10>)"
      ]
     },
     "metadata": {},
     "output_type": "display_data"
    },
    {
     "data": {
      "text/plain": [
       "Figure(PyObject <matplotlib.figure.Figure object at 0x12a37ab10>)"
      ]
     },
     "metadata": {},
     "output_type": "display_data"
    },
    {
     "data": {
      "text/plain": [
       "Figure(PyObject <matplotlib.figure.Figure object at 0x129cc3b90>)"
      ]
     },
     "metadata": {},
     "output_type": "display_data"
    },
    {
     "data": {
      "text/plain": [
       "Figure(PyObject <matplotlib.figure.Figure object at 0x129b03090>)"
      ]
     },
     "metadata": {},
     "output_type": "display_data"
    },
    {
     "data": {
      "text/plain": [
       "Figure(PyObject <matplotlib.figure.Figure object at 0x128ff64d0>)"
      ]
     },
     "metadata": {},
     "output_type": "display_data"
    },
    {
     "data": {
      "text/plain": [
       "Figure(PyObject <matplotlib.figure.Figure object at 0x128a1e7d0>)"
      ]
     },
     "metadata": {},
     "output_type": "display_data"
    },
    {
     "data": {
      "text/plain": [
       "Figure(PyObject <matplotlib.figure.Figure object at 0x12844db50>)"
      ]
     },
     "metadata": {},
     "output_type": "display_data"
    },
    {
     "data": {
      "text/plain": [
       "Figure(PyObject <matplotlib.figure.Figure object at 0x127d5eb90>)"
      ]
     },
     "metadata": {},
     "output_type": "display_data"
    },
    {
     "data": {
      "text/plain": [
       "Figure(PyObject <matplotlib.figure.Figure object at 0x1274aa2d0>)"
      ]
     },
     "metadata": {},
     "output_type": "display_data"
    },
    {
     "data": {
      "text/plain": [
       "Figure(PyObject <matplotlib.figure.Figure object at 0x126fbc390>)"
      ]
     },
     "metadata": {},
     "output_type": "display_data"
    },
    {
     "data": {
      "text/plain": [
       "Figure(PyObject <matplotlib.figure.Figure object at 0x1268286d0>)"
      ]
     },
     "metadata": {},
     "output_type": "display_data"
    },
    {
     "data": {
      "text/plain": [
       "Figure(PyObject <matplotlib.figure.Figure object at 0x1261a1ed0>)"
      ]
     },
     "metadata": {},
     "output_type": "display_data"
    },
    {
     "data": {
      "text/plain": [
       "Figure(PyObject <matplotlib.figure.Figure object at 0x125b1b850>)"
      ]
     },
     "metadata": {},
     "output_type": "display_data"
    },
    {
     "data": {
      "text/plain": [
       "Figure(PyObject <matplotlib.figure.Figure object at 0x12520e110>)"
      ]
     },
     "metadata": {},
     "output_type": "display_data"
    },
    {
     "data": {
      "text/plain": [
       "Figure(PyObject <matplotlib.figure.Figure object at 0x124b7ae50>)"
      ]
     },
     "metadata": {},
     "output_type": "display_data"
    },
    {
     "data": {
      "text/plain": [
       "Figure(PyObject <matplotlib.figure.Figure object at 0x124631050>)"
      ]
     },
     "metadata": {},
     "output_type": "display_data"
    },
    {
     "data": {
      "text/plain": [
       "Figure(PyObject <matplotlib.figure.Figure object at 0x123eb1510>)"
      ]
     },
     "metadata": {},
     "output_type": "display_data"
    },
    {
     "data": {
      "text/plain": [
       "Figure(PyObject <matplotlib.figure.Figure object at 0x123891110>)"
      ]
     },
     "metadata": {},
     "output_type": "display_data"
    },
    {
     "data": {
      "text/plain": [
       "Figure(PyObject <matplotlib.figure.Figure object at 0x123047150>)"
      ]
     },
     "metadata": {},
     "output_type": "display_data"
    },
    {
     "data": {
      "text/plain": [
       "Figure(PyObject <matplotlib.figure.Figure object at 0x1228dcb90>)"
      ]
     },
     "metadata": {},
     "output_type": "display_data"
    },
    {
     "data": {
      "text/plain": [
       "Figure(PyObject <matplotlib.figure.Figure object at 0x122678390>)"
      ]
     },
     "metadata": {},
     "output_type": "display_data"
    },
    {
     "data": {
      "text/plain": [
       "Figure(PyObject <matplotlib.figure.Figure object at 0x121d5ea10>)"
      ]
     },
     "metadata": {},
     "output_type": "display_data"
    },
    {
     "data": {
      "text/plain": [
       "Figure(PyObject <matplotlib.figure.Figure object at 0x1238c9310>)"
      ]
     },
     "metadata": {},
     "output_type": "display_data"
    },
    {
     "data": {
      "text/plain": [
       "Figure(PyObject <matplotlib.figure.Figure object at 0x126193810>)"
      ]
     },
     "metadata": {},
     "output_type": "display_data"
    },
    {
     "data": {
      "text/plain": [
       "Figure(PyObject <matplotlib.figure.Figure object at 0x129a08710>)"
      ]
     },
     "metadata": {},
     "output_type": "display_data"
    },
    {
     "data": {
      "text/plain": [
       "Figure(PyObject <matplotlib.figure.Figure object at 0x12b298510>)"
      ]
     },
     "metadata": {},
     "output_type": "display_data"
    },
    {
     "data": {
      "text/plain": [
       "Figure(PyObject <matplotlib.figure.Figure object at 0x12174ebd0>)"
      ]
     },
     "metadata": {},
     "output_type": "display_data"
    },
    {
     "data": {
      "text/plain": [
       "Figure(PyObject <matplotlib.figure.Figure object at 0x1218a3b90>)"
      ]
     },
     "metadata": {},
     "output_type": "display_data"
    },
    {
     "data": {
      "text/plain": [
       "Figure(PyObject <matplotlib.figure.Figure object at 0x120a1fbd0>)"
      ]
     },
     "metadata": {},
     "output_type": "display_data"
    },
    {
     "data": {
      "text/plain": [
       "Figure(PyObject <matplotlib.figure.Figure object at 0x12043f110>)"
      ]
     },
     "metadata": {},
     "output_type": "display_data"
    },
    {
     "data": {
      "text/plain": [
       "Figure(PyObject <matplotlib.figure.Figure object at 0x11fdf5c50>)"
      ]
     },
     "metadata": {},
     "output_type": "display_data"
    },
    {
     "data": {
      "text/plain": [
       "Figure(PyObject <matplotlib.figure.Figure object at 0x11fa2e890>)"
      ]
     },
     "metadata": {},
     "output_type": "display_data"
    },
    {
     "data": {
      "text/plain": [
       "Figure(PyObject <matplotlib.figure.Figure object at 0x11f1335d0>)"
      ]
     },
     "metadata": {},
     "output_type": "display_data"
    },
    {
     "data": {
      "text/plain": [
       "Figure(PyObject <matplotlib.figure.Figure object at 0x11e80d2d0>)"
      ]
     },
     "metadata": {},
     "output_type": "display_data"
    },
    {
     "data": {
      "text/plain": [
       "Figure(PyObject <matplotlib.figure.Figure object at 0x11e3bb590>)"
      ]
     },
     "metadata": {},
     "output_type": "display_data"
    },
    {
     "data": {
      "text/plain": [
       "Figure(PyObject <matplotlib.figure.Figure object at 0x11de03310>)"
      ]
     },
     "metadata": {},
     "output_type": "display_data"
    },
    {
     "data": {
      "text/plain": [
       "Figure(PyObject <matplotlib.figure.Figure object at 0x11d8413d0>)"
      ]
     },
     "metadata": {},
     "output_type": "display_data"
    },
    {
     "data": {
      "text/plain": [
       "Figure(PyObject <matplotlib.figure.Figure object at 0x11cff1f10>)"
      ]
     },
     "metadata": {},
     "output_type": "display_data"
    },
    {
     "data": {
      "text/plain": [
       "Figure(PyObject <matplotlib.figure.Figure object at 0x11c9ef410>)"
      ]
     },
     "metadata": {},
     "output_type": "display_data"
    },
    {
     "data": {
      "text/plain": [
       "Figure(PyObject <matplotlib.figure.Figure object at 0x11c0d2b10>)"
      ]
     },
     "metadata": {},
     "output_type": "display_data"
    },
    {
     "data": {
      "text/plain": [
       "Figure(PyObject <matplotlib.figure.Figure object at 0x11bb6fc90>)"
      ]
     },
     "metadata": {},
     "output_type": "display_data"
    },
    {
     "data": {
      "text/plain": [
       "Figure(PyObject <matplotlib.figure.Figure object at 0x11b3116d0>)"
      ]
     },
     "metadata": {},
     "output_type": "display_data"
    },
    {
     "data": {
      "text/plain": [
       "Figure(PyObject <matplotlib.figure.Figure object at 0x11ad537d0>)"
      ]
     },
     "metadata": {},
     "output_type": "display_data"
    },
    {
     "data": {
      "text/plain": [
       "Figure(PyObject <matplotlib.figure.Figure object at 0x11a870710>)"
      ]
     },
     "metadata": {},
     "output_type": "display_data"
    },
    {
     "data": {
      "text/plain": [
       "Figure(PyObject <matplotlib.figure.Figure object at 0x11a0a5b10>)"
      ]
     },
     "metadata": {},
     "output_type": "display_data"
    },
    {
     "data": {
      "text/plain": [
       "Figure(PyObject <matplotlib.figure.Figure object at 0x11995e990>)"
      ]
     },
     "metadata": {},
     "output_type": "display_data"
    },
    {
     "data": {
      "text/plain": [
       "Figure(PyObject <matplotlib.figure.Figure object at 0x1192df590>)"
      ]
     },
     "metadata": {},
     "output_type": "display_data"
    },
    {
     "data": {
      "text/plain": [
       "Figure(PyObject <matplotlib.figure.Figure object at 0x118cc0c10>)"
      ]
     },
     "metadata": {},
     "output_type": "display_data"
    },
    {
     "data": {
      "text/plain": [
       "Figure(PyObject <matplotlib.figure.Figure object at 0x118458ed0>)"
      ]
     },
     "metadata": {},
     "output_type": "display_data"
    },
    {
     "data": {
      "text/plain": [
       "Figure(PyObject <matplotlib.figure.Figure object at 0x117d53ed0>)"
      ]
     },
     "metadata": {},
     "output_type": "display_data"
    },
    {
     "data": {
      "text/plain": [
       "Figure(PyObject <matplotlib.figure.Figure object at 0x11788a650>)"
      ]
     },
     "metadata": {},
     "output_type": "display_data"
    },
    {
     "data": {
      "text/plain": [
       "Figure(PyObject <matplotlib.figure.Figure object at 0x119e2f0d0>)"
      ]
     },
     "metadata": {},
     "output_type": "display_data"
    },
    {
     "data": {
      "text/plain": [
       "Figure(PyObject <matplotlib.figure.Figure object at 0x11cbecb10>)"
      ]
     },
     "metadata": {},
     "output_type": "display_data"
    },
    {
     "data": {
      "text/plain": [
       "Figure(PyObject <matplotlib.figure.Figure object at 0x1202a7110>)"
      ]
     },
     "metadata": {},
     "output_type": "display_data"
    },
    {
     "data": {
      "text/plain": [
       "Figure(PyObject <matplotlib.figure.Figure object at 0x129d6b3d0>)"
      ]
     },
     "metadata": {},
     "output_type": "display_data"
    },
    {
     "data": {
      "text/plain": [
       "Figure(PyObject <matplotlib.figure.Figure object at 0x11743a710>)"
      ]
     },
     "metadata": {},
     "output_type": "display_data"
    },
    {
     "data": {
      "text/plain": [
       "Figure(PyObject <matplotlib.figure.Figure object at 0x116bc1350>)"
      ]
     },
     "metadata": {},
     "output_type": "display_data"
    },
    {
     "data": {
      "text/plain": [
       "Figure(PyObject <matplotlib.figure.Figure object at 0x1165bd990>)"
      ]
     },
     "metadata": {},
     "output_type": "display_data"
    },
    {
     "data": {
      "text/plain": [
       "Figure(PyObject <matplotlib.figure.Figure object at 0x1162d1b50>)"
      ]
     },
     "metadata": {},
     "output_type": "display_data"
    },
    {
     "data": {
      "text/plain": [
       "Figure(PyObject <matplotlib.figure.Figure object at 0x113d5b810>)"
      ]
     },
     "metadata": {},
     "output_type": "display_data"
    },
    {
     "data": {
      "text/plain": [
       "Figure(PyObject <matplotlib.figure.Figure object at 0x113e36410>)"
      ]
     },
     "metadata": {},
     "output_type": "display_data"
    },
    {
     "data": {
      "text/plain": [
       "Figure(PyObject <matplotlib.figure.Figure object at 0x113e87450>)"
      ]
     },
     "metadata": {},
     "output_type": "display_data"
    },
    {
     "data": {
      "text/plain": [
       "Figure(PyObject <matplotlib.figure.Figure object at 0x112b54d50>)"
      ]
     },
     "metadata": {},
     "output_type": "display_data"
    },
    {
     "data": {
      "text/plain": [
       "Figure(PyObject <matplotlib.figure.Figure object at 0x11353c410>)"
      ]
     },
     "metadata": {},
     "output_type": "display_data"
    },
    {
     "data": {
      "text/plain": [
       "Figure(PyObject <matplotlib.figure.Figure object at 0x114513590>)"
      ]
     },
     "metadata": {},
     "output_type": "display_data"
    },
    {
     "data": {
      "text/plain": [
       "Figure(PyObject <matplotlib.figure.Figure object at 0x11f9cef50>)"
      ]
     },
     "metadata": {},
     "output_type": "display_data"
    },
    {
     "data": {
      "text/plain": [
       "Figure(PyObject <matplotlib.figure.Figure object at 0x1173614d0>)"
      ]
     },
     "metadata": {},
     "output_type": "display_data"
    },
    {
     "data": {
      "text/plain": [
       "Figure(PyObject <matplotlib.figure.Figure object at 0x112b70a10>)"
      ]
     },
     "metadata": {},
     "output_type": "display_data"
    },
    {
     "data": {
      "text/plain": [
       "Figure(PyObject <matplotlib.figure.Figure object at 0x1203afe90>)"
      ]
     },
     "metadata": {},
     "output_type": "display_data"
    },
    {
     "data": {
      "text/plain": [
       "Figure(PyObject <matplotlib.figure.Figure object at 0x1230e69d0>)"
      ]
     },
     "metadata": {},
     "output_type": "display_data"
    },
    {
     "data": {
      "text/plain": [
       "Figure(PyObject <matplotlib.figure.Figure object at 0x12a72e750>)"
      ]
     },
     "metadata": {},
     "output_type": "display_data"
    },
    {
     "data": {
      "text/plain": [
       "Figure(PyObject <matplotlib.figure.Figure object at 0x152f01790>)"
      ]
     },
     "metadata": {},
     "output_type": "display_data"
    },
    {
     "data": {
      "text/plain": [
       "Figure(PyObject <matplotlib.figure.Figure object at 0x13b488e90>)"
      ]
     },
     "metadata": {},
     "output_type": "display_data"
    },
    {
     "data": {
      "text/plain": [
       "Figure(PyObject <matplotlib.figure.Figure object at 0x13dfcd9d0>)"
      ]
     },
     "metadata": {},
     "output_type": "display_data"
    },
    {
     "data": {
      "text/plain": [
       "Figure(PyObject <matplotlib.figure.Figure object at 0x13675a750>)"
      ]
     },
     "metadata": {},
     "output_type": "display_data"
    },
    {
     "data": {
      "text/plain": [
       "Figure(PyObject <matplotlib.figure.Figure object at 0x12bbe8790>)"
      ]
     },
     "metadata": {},
     "output_type": "display_data"
    },
    {
     "data": {
      "text/plain": [
       "Figure(PyObject <matplotlib.figure.Figure object at 0x12443be90>)"
      ]
     },
     "metadata": {},
     "output_type": "display_data"
    },
    {
     "data": {
      "text/plain": [
       "Figure(PyObject <matplotlib.figure.Figure object at 0x11ff939d0>)"
      ]
     },
     "metadata": {},
     "output_type": "display_data"
    },
    {
     "data": {
      "text/plain": [
       "Figure(PyObject <matplotlib.figure.Figure object at 0x119e08750>)"
      ]
     },
     "metadata": {},
     "output_type": "display_data"
    },
    {
     "data": {
      "text/plain": [
       "Figure(PyObject <matplotlib.figure.Figure object at 0x11acad850>)"
      ]
     },
     "metadata": {},
     "output_type": "display_data"
    },
    {
     "data": {
      "text/plain": [
       "Figure(PyObject <matplotlib.figure.Figure object at 0x14714e6d0>)"
      ]
     },
     "metadata": {},
     "output_type": "display_data"
    },
    {
     "data": {
      "text/plain": [
       "Figure(PyObject <matplotlib.figure.Figure object at 0x125fafd50>)"
      ]
     },
     "metadata": {},
     "output_type": "display_data"
    },
    {
     "data": {
      "text/plain": [
       "Figure(PyObject <matplotlib.figure.Figure object at 0x1229a29d0>)"
      ]
     },
     "metadata": {},
     "output_type": "display_data"
    },
    {
     "data": {
      "text/plain": [
       "Figure(PyObject <matplotlib.figure.Figure object at 0x140aa6c90>)"
      ]
     },
     "metadata": {},
     "output_type": "display_data"
    },
    {
     "data": {
      "text/plain": [
       "Figure(PyObject <matplotlib.figure.Figure object at 0x14a0c0510>)"
      ]
     },
     "metadata": {},
     "output_type": "display_data"
    },
    {
     "data": {
      "text/plain": [
       "Figure(PyObject <matplotlib.figure.Figure object at 0x15b664290>)"
      ]
     },
     "metadata": {},
     "output_type": "display_data"
    },
    {
     "data": {
      "text/plain": [
       "Figure(PyObject <matplotlib.figure.Figure object at 0x113d84250>)"
      ]
     },
     "metadata": {},
     "output_type": "display_data"
    },
    {
     "data": {
      "text/plain": [
       "Figure(PyObject <matplotlib.figure.Figure object at 0x1194cc810>)"
      ]
     },
     "metadata": {},
     "output_type": "display_data"
    },
    {
     "data": {
      "text/plain": [
       "Figure(PyObject <matplotlib.figure.Figure object at 0x1455bd850>)"
      ]
     },
     "metadata": {},
     "output_type": "display_data"
    },
    {
     "data": {
      "text/plain": [
       "Figure(PyObject <matplotlib.figure.Figure object at 0x1407c5ed0>)"
      ]
     },
     "metadata": {},
     "output_type": "display_data"
    },
    {
     "data": {
      "text/plain": [
       "Figure(PyObject <matplotlib.figure.Figure object at 0x1314ecb50>)"
      ]
     },
     "metadata": {},
     "output_type": "display_data"
    },
    {
     "data": {
      "text/plain": [
       "Figure(PyObject <matplotlib.figure.Figure object at 0x13368ee90>)"
      ]
     },
     "metadata": {},
     "output_type": "display_data"
    },
    {
     "data": {
      "text/plain": [
       "Figure(PyObject <matplotlib.figure.Figure object at 0x127d88850>)"
      ]
     },
     "metadata": {},
     "output_type": "display_data"
    },
    {
     "data": {
      "text/plain": [
       "Figure(PyObject <matplotlib.figure.Figure object at 0x124c36bd0>)"
      ]
     },
     "metadata": {},
     "output_type": "display_data"
    },
    {
     "data": {
      "text/plain": [
       "Figure(PyObject <matplotlib.figure.Figure object at 0x120743b50>)"
      ]
     },
     "metadata": {},
     "output_type": "display_data"
    },
    {
     "data": {
      "text/plain": [
       "Figure(PyObject <matplotlib.figure.Figure object at 0x11d816350>)"
      ]
     },
     "metadata": {},
     "output_type": "display_data"
    },
    {
     "data": {
      "text/plain": [
       "Figure(PyObject <matplotlib.figure.Figure object at 0x115c45ad0>)"
      ]
     },
     "metadata": {},
     "output_type": "display_data"
    },
    {
     "data": {
      "text/plain": [
       "Figure(PyObject <matplotlib.figure.Figure object at 0x1243f3f50>)"
      ]
     },
     "metadata": {},
     "output_type": "display_data"
    },
    {
     "data": {
      "text/plain": [
       "Figure(PyObject <matplotlib.figure.Figure object at 0x1338e9dd0>)"
      ]
     },
     "metadata": {},
     "output_type": "display_data"
    },
    {
     "data": {
      "text/plain": [
       "Figure(PyObject <matplotlib.figure.Figure object at 0x12f7d3e50>)"
      ]
     },
     "metadata": {},
     "output_type": "display_data"
    },
    {
     "data": {
      "text/plain": [
       "Figure(PyObject <matplotlib.figure.Figure object at 0x1423b1d50>)"
      ]
     },
     "metadata": {},
     "output_type": "display_data"
    },
    {
     "data": {
      "text/plain": [
       "Figure(PyObject <matplotlib.figure.Figure object at 0x142124b10>)"
      ]
     },
     "metadata": {},
     "output_type": "display_data"
    },
    {
     "data": {
      "text/plain": [
       "Figure(PyObject <matplotlib.figure.Figure object at 0x139369090>)"
      ]
     },
     "metadata": {},
     "output_type": "display_data"
    },
    {
     "data": {
      "text/plain": [
       "Figure(PyObject <matplotlib.figure.Figure object at 0x136ce8590>)"
      ]
     },
     "metadata": {},
     "output_type": "display_data"
    },
    {
     "data": {
      "text/plain": [
       "Figure(PyObject <matplotlib.figure.Figure object at 0x12b56da50>)"
      ]
     },
     "metadata": {},
     "output_type": "display_data"
    },
    {
     "data": {
      "text/plain": [
       "Figure(PyObject <matplotlib.figure.Figure object at 0x125942d90>)"
      ]
     },
     "metadata": {},
     "output_type": "display_data"
    },
    {
     "data": {
      "text/plain": [
       "Figure(PyObject <matplotlib.figure.Figure object at 0x12542b310>)"
      ]
     },
     "metadata": {},
     "output_type": "display_data"
    },
    {
     "data": {
      "text/plain": [
       "Figure(PyObject <matplotlib.figure.Figure object at 0x11f3d4110>)"
      ]
     },
     "metadata": {},
     "output_type": "display_data"
    },
    {
     "data": {
      "text/plain": [
       "Figure(PyObject <matplotlib.figure.Figure object at 0x118792fd0>)"
      ]
     },
     "metadata": {},
     "output_type": "display_data"
    },
    {
     "data": {
      "text/plain": [
       "Figure(PyObject <matplotlib.figure.Figure object at 0x11be1fd90>)"
      ]
     },
     "metadata": {},
     "output_type": "display_data"
    },
    {
     "data": {
      "text/plain": [
       "Figure(PyObject <matplotlib.figure.Figure object at 0x14d581310>)"
      ]
     },
     "metadata": {},
     "output_type": "display_data"
    },
    {
     "data": {
      "text/plain": [
       "Figure(PyObject <matplotlib.figure.Figure object at 0x120fde850>)"
      ]
     },
     "metadata": {},
     "output_type": "display_data"
    },
    {
     "data": {
      "text/plain": [
       "Figure(PyObject <matplotlib.figure.Figure object at 0x143157b50>)"
      ]
     },
     "metadata": {},
     "output_type": "display_data"
    },
    {
     "data": {
      "text/plain": [
       "Figure(PyObject <matplotlib.figure.Figure object at 0x1406d7190>)"
      ]
     },
     "metadata": {},
     "output_type": "display_data"
    },
    {
     "data": {
      "text/plain": [
       "Figure(PyObject <matplotlib.figure.Figure object at 0x138115590>)"
      ]
     },
     "metadata": {},
     "output_type": "display_data"
    },
    {
     "data": {
      "text/plain": [
       "Figure(PyObject <matplotlib.figure.Figure object at 0x132f25ad0>)"
      ]
     },
     "metadata": {},
     "output_type": "display_data"
    },
    {
     "data": {
      "text/plain": [
       "Figure(PyObject <matplotlib.figure.Figure object at 0x12f2c0750>)"
      ]
     },
     "metadata": {},
     "output_type": "display_data"
    },
    {
     "data": {
      "text/plain": [
       "Figure(PyObject <matplotlib.figure.Figure object at 0x12da85a90>)"
      ]
     },
     "metadata": {},
     "output_type": "display_data"
    },
    {
     "data": {
      "text/plain": [
       "Figure(PyObject <matplotlib.figure.Figure object at 0x12a296810>)"
      ]
     },
     "metadata": {},
     "output_type": "display_data"
    },
    {
     "data": {
      "text/plain": [
       "Figure(PyObject <matplotlib.figure.Figure object at 0x11d9a3bd0>)"
      ]
     },
     "metadata": {},
     "output_type": "display_data"
    },
    {
     "data": {
      "text/plain": [
       "Figure(PyObject <matplotlib.figure.Figure object at 0x1385796d0>)"
      ]
     },
     "metadata": {},
     "output_type": "display_data"
    },
    {
     "data": {
      "text/plain": [
       "Figure(PyObject <matplotlib.figure.Figure object at 0x11f38a510>)"
      ]
     },
     "metadata": {},
     "output_type": "display_data"
    },
    {
     "data": {
      "text/plain": [
       "Figure(PyObject <matplotlib.figure.Figure object at 0x137228650>)"
      ]
     },
     "metadata": {},
     "output_type": "display_data"
    },
    {
     "data": {
      "text/plain": [
       "Figure(PyObject <matplotlib.figure.Figure object at 0x122351bd0>)"
      ]
     },
     "metadata": {},
     "output_type": "display_data"
    },
    {
     "data": {
      "text/plain": [
       "Figure(PyObject <matplotlib.figure.Figure object at 0x112f3fb50>)"
      ]
     },
     "metadata": {},
     "output_type": "display_data"
    },
    {
     "data": {
      "text/plain": [
       "Figure(PyObject <matplotlib.figure.Figure object at 0x112d38090>)"
      ]
     },
     "metadata": {},
     "output_type": "display_data"
    },
    {
     "data": {
      "text/plain": [
       "Figure(PyObject <matplotlib.figure.Figure object at 0x11af62510>)"
      ]
     },
     "metadata": {},
     "output_type": "display_data"
    },
    {
     "data": {
      "text/plain": [
       "Figure(PyObject <matplotlib.figure.Figure object at 0x146b9c850>)"
      ]
     },
     "metadata": {},
     "output_type": "display_data"
    },
    {
     "data": {
      "text/plain": [
       "Figure(PyObject <matplotlib.figure.Figure object at 0x139daaad0>)"
      ]
     },
     "metadata": {},
     "output_type": "display_data"
    },
    {
     "data": {
      "text/plain": [
       "Figure(PyObject <matplotlib.figure.Figure object at 0x14297b090>)"
      ]
     },
     "metadata": {},
     "output_type": "display_data"
    },
    {
     "data": {
      "text/plain": [
       "Figure(PyObject <matplotlib.figure.Figure object at 0x13d9b2510>)"
      ]
     },
     "metadata": {},
     "output_type": "display_data"
    },
    {
     "data": {
      "text/plain": [
       "Figure(PyObject <matplotlib.figure.Figure object at 0x13d97ca50>)"
      ]
     },
     "metadata": {},
     "output_type": "display_data"
    },
    {
     "data": {
      "text/plain": [
       "Figure(PyObject <matplotlib.figure.Figure object at 0x13dc236d0>)"
      ]
     },
     "metadata": {},
     "output_type": "display_data"
    },
    {
     "data": {
      "text/plain": [
       "Figure(PyObject <matplotlib.figure.Figure object at 0x137ef8a10>)"
      ]
     },
     "metadata": {},
     "output_type": "display_data"
    },
    {
     "data": {
      "text/plain": [
       "Figure(PyObject <matplotlib.figure.Figure object at 0x134ed6790>)"
      ]
     },
     "metadata": {},
     "output_type": "display_data"
    },
    {
     "data": {
      "text/plain": [
       "Figure(PyObject <matplotlib.figure.Figure object at 0x13197fe10>)"
      ]
     },
     "metadata": {},
     "output_type": "display_data"
    },
    {
     "data": {
      "text/plain": [
       "Figure(PyObject <matplotlib.figure.Figure object at 0x128121710>)"
      ]
     },
     "metadata": {},
     "output_type": "display_data"
    },
    {
     "data": {
      "text/plain": [
       "Figure(PyObject <matplotlib.figure.Figure object at 0x123e81d90>)"
      ]
     },
     "metadata": {},
     "output_type": "display_data"
    },
    {
     "data": {
      "text/plain": [
       "Figure(PyObject <matplotlib.figure.Figure object at 0x11c107a10>)"
      ]
     },
     "metadata": {},
     "output_type": "display_data"
    },
    {
     "data": {
      "text/plain": [
       "Figure(PyObject <matplotlib.figure.Figure object at 0x117ff5a50>)"
      ]
     },
     "metadata": {},
     "output_type": "display_data"
    },
    {
     "data": {
      "text/plain": [
       "Figure(PyObject <matplotlib.figure.Figure object at 0x146e38710>)"
      ]
     },
     "metadata": {},
     "output_type": "display_data"
    },
    {
     "data": {
      "text/plain": [
       "Figure(PyObject <matplotlib.figure.Figure object at 0x151e98d90>)"
      ]
     },
     "metadata": {},
     "output_type": "display_data"
    },
    {
     "data": {
      "text/plain": [
       "Figure(PyObject <matplotlib.figure.Figure object at 0x144fc2a10>)"
      ]
     },
     "metadata": {},
     "output_type": "display_data"
    },
    {
     "data": {
      "text/plain": [
       "Figure(PyObject <matplotlib.figure.Figure object at 0x13ac6ea50>)"
      ]
     },
     "metadata": {},
     "output_type": "display_data"
    },
    {
     "data": {
      "text/plain": [
       "Figure(PyObject <matplotlib.figure.Figure object at 0x139ba4710>)"
      ]
     },
     "metadata": {},
     "output_type": "display_data"
    },
    {
     "data": {
      "text/plain": [
       "Figure(PyObject <matplotlib.figure.Figure object at 0x13584cd90>)"
      ]
     },
     "metadata": {},
     "output_type": "display_data"
    },
    {
     "data": {
      "text/plain": [
       "Figure(PyObject <matplotlib.figure.Figure object at 0x12f674a10>)"
      ]
     },
     "metadata": {},
     "output_type": "display_data"
    },
    {
     "data": {
      "text/plain": [
       "Figure(PyObject <matplotlib.figure.Figure object at 0x12f93af50>)"
      ]
     },
     "metadata": {},
     "output_type": "display_data"
    },
    {
     "data": {
      "text/plain": [
       "Figure(PyObject <matplotlib.figure.Figure object at 0x12718e990>)"
      ]
     },
     "metadata": {},
     "output_type": "display_data"
    },
    {
     "data": {
      "text/plain": [
       "Figure(PyObject <matplotlib.figure.Figure object at 0x12045fe10>)"
      ]
     },
     "metadata": {},
     "output_type": "display_data"
    },
    {
     "data": {
      "text/plain": [
       "Figure(PyObject <matplotlib.figure.Figure object at 0x120a93c90>)"
      ]
     },
     "metadata": {},
     "output_type": "display_data"
    },
    {
     "data": {
      "text/plain": [
       "Figure(PyObject <matplotlib.figure.Figure object at 0x113d2d1d0>)"
      ]
     },
     "metadata": {},
     "output_type": "display_data"
    },
    {
     "data": {
      "text/plain": [
       "Figure(PyObject <matplotlib.figure.Figure object at 0x11a1e5c10>)"
      ]
     },
     "metadata": {},
     "output_type": "display_data"
    },
    {
     "data": {
      "text/plain": [
       "Figure(PyObject <matplotlib.figure.Figure object at 0x1162809d0>)"
      ]
     },
     "metadata": {},
     "output_type": "display_data"
    },
    {
     "data": {
      "text/plain": [
       "Figure(PyObject <matplotlib.figure.Figure object at 0x12885df10>)"
      ]
     },
     "metadata": {},
     "output_type": "display_data"
    },
    {
     "data": {
      "text/plain": [
       "Figure(PyObject <matplotlib.figure.Figure object at 0x150a3afd0>)"
      ]
     },
     "metadata": {},
     "output_type": "display_data"
    },
    {
     "data": {
      "text/plain": [
       "Figure(PyObject <matplotlib.figure.Figure object at 0x1441a4c10>)"
      ]
     },
     "metadata": {},
     "output_type": "display_data"
    },
    {
     "data": {
      "text/plain": [
       "Figure(PyObject <matplotlib.figure.Figure object at 0x13c0119d0>)"
      ]
     },
     "metadata": {},
     "output_type": "display_data"
    },
    {
     "data": {
      "text/plain": [
       "Figure(PyObject <matplotlib.figure.Figure object at 0x145072f10>)"
      ]
     },
     "metadata": {},
     "output_type": "display_data"
    },
    {
     "data": {
      "text/plain": [
       "Figure(PyObject <matplotlib.figure.Figure object at 0x1369ebfd0>)"
      ]
     },
     "metadata": {},
     "output_type": "display_data"
    },
    {
     "data": {
      "text/plain": [
       "Figure(PyObject <matplotlib.figure.Figure object at 0x13a6fec10>)"
      ]
     },
     "metadata": {},
     "output_type": "display_data"
    },
    {
     "data": {
      "text/plain": [
       "Figure(PyObject <matplotlib.figure.Figure object at 0x149684ed0>)"
      ]
     },
     "metadata": {},
     "output_type": "display_data"
    },
    {
     "data": {
      "text/plain": [
       "Figure(PyObject <matplotlib.figure.Figure object at 0x116987e10>)"
      ]
     },
     "metadata": {},
     "output_type": "display_data"
    },
    {
     "data": {
      "text/plain": [
       "Figure(PyObject <matplotlib.figure.Figure object at 0x136168250>)"
      ]
     },
     "metadata": {},
     "output_type": "display_data"
    },
    {
     "data": {
      "text/plain": [
       "Figure(PyObject <matplotlib.figure.Figure object at 0x1199bbb90>)"
      ]
     },
     "metadata": {},
     "output_type": "display_data"
    },
    {
     "data": {
      "text/plain": [
       "Figure(PyObject <matplotlib.figure.Figure object at 0x13ea0b550>)"
      ]
     },
     "metadata": {},
     "output_type": "display_data"
    },
    {
     "data": {
      "text/plain": [
       "Figure(PyObject <matplotlib.figure.Figure object at 0x113324b90>)"
      ]
     },
     "metadata": {},
     "output_type": "display_data"
    },
    {
     "data": {
      "text/plain": [
       "Figure(PyObject <matplotlib.figure.Figure object at 0x134b91ad0>)"
      ]
     },
     "metadata": {},
     "output_type": "display_data"
    },
    {
     "data": {
      "text/plain": [
       "Figure(PyObject <matplotlib.figure.Figure object at 0x12f577790>)"
      ]
     },
     "metadata": {},
     "output_type": "display_data"
    },
    {
     "data": {
      "text/plain": [
       "Figure(PyObject <matplotlib.figure.Figure object at 0x121808e10>)"
      ]
     },
     "metadata": {},
     "output_type": "display_data"
    },
    {
     "data": {
      "text/plain": [
       "Figure(PyObject <matplotlib.figure.Figure object at 0x121abca90>)"
      ]
     },
     "metadata": {},
     "output_type": "display_data"
    },
    {
     "data": {
      "text/plain": [
       "Figure(PyObject <matplotlib.figure.Figure object at 0x11c6df290>)"
      ]
     },
     "metadata": {},
     "output_type": "display_data"
    },
    {
     "data": {
      "text/plain": [
       "Figure(PyObject <matplotlib.figure.Figure object at 0x119391a10>)"
      ]
     },
     "metadata": {},
     "output_type": "display_data"
    },
    {
     "data": {
      "text/plain": [
       "Figure(PyObject <matplotlib.figure.Figure object at 0x149e22e90>)"
      ]
     },
     "metadata": {},
     "output_type": "display_data"
    },
    {
     "data": {
      "text/plain": [
       "Figure(PyObject <matplotlib.figure.Figure object at 0x1384ccd10>)"
      ]
     },
     "metadata": {},
     "output_type": "display_data"
    },
    {
     "data": {
      "text/plain": [
       "Figure(PyObject <matplotlib.figure.Figure object at 0x11ac2b590>)"
      ]
     },
     "metadata": {},
     "output_type": "display_data"
    },
    {
     "data": {
      "text/plain": [
       "Figure(PyObject <matplotlib.figure.Figure object at 0x151ab4c90>)"
      ]
     },
     "metadata": {},
     "output_type": "display_data"
    },
    {
     "data": {
      "text/plain": [
       "Figure(PyObject <matplotlib.figure.Figure object at 0x149de6a50>)"
      ]
     },
     "metadata": {},
     "output_type": "display_data"
    },
    {
     "data": {
      "text/plain": [
       "Figure(PyObject <matplotlib.figure.Figure object at 0x13ebed4d0>)"
      ]
     },
     "metadata": {},
     "output_type": "display_data"
    },
    {
     "data": {
      "text/plain": [
       "Figure(PyObject <matplotlib.figure.Figure object at 0x14446d650>)"
      ]
     },
     "metadata": {},
     "output_type": "display_data"
    },
    {
     "data": {
      "text/plain": [
       "Figure(PyObject <matplotlib.figure.Figure object at 0x133fdba90>)"
      ]
     },
     "metadata": {},
     "output_type": "display_data"
    },
    {
     "data": {
      "text/plain": [
       "Figure(PyObject <matplotlib.figure.Figure object at 0x13218d090>)"
      ]
     },
     "metadata": {},
     "output_type": "display_data"
    },
    {
     "data": {
      "text/plain": [
       "Figure(PyObject <matplotlib.figure.Figure object at 0x12f29b250>)"
      ]
     },
     "metadata": {},
     "output_type": "display_data"
    },
    {
     "data": {
      "text/plain": [
       "Figure(PyObject <matplotlib.figure.Figure object at 0x12cfc5790>)"
      ]
     },
     "metadata": {},
     "output_type": "display_data"
    },
    {
     "data": {
      "text/plain": [
       "Figure(PyObject <matplotlib.figure.Figure object at 0x12301e910>)"
      ]
     },
     "metadata": {},
     "output_type": "display_data"
    },
    {
     "data": {
      "text/plain": [
       "Figure(PyObject <matplotlib.figure.Figure object at 0x120cccf50>)"
      ]
     },
     "metadata": {},
     "output_type": "display_data"
    },
    {
     "data": {
      "text/plain": [
       "Figure(PyObject <matplotlib.figure.Figure object at 0x11b1ce4d0>)"
      ]
     },
     "metadata": {},
     "output_type": "display_data"
    },
    {
     "data": {
      "text/plain": [
       "Figure(PyObject <matplotlib.figure.Figure object at 0x116df9a10>)"
      ]
     },
     "metadata": {},
     "output_type": "display_data"
    },
    {
     "data": {
      "text/plain": [
       "Figure(PyObject <matplotlib.figure.Figure object at 0x14770de90>)"
      ]
     },
     "metadata": {},
     "output_type": "display_data"
    },
    {
     "data": {
      "text/plain": [
       "Figure(PyObject <matplotlib.figure.Figure object at 0x11838c9d0>)"
      ]
     },
     "metadata": {},
     "output_type": "display_data"
    },
    {
     "data": {
      "text/plain": [
       "Figure(PyObject <matplotlib.figure.Figure object at 0x150125750>)"
      ]
     },
     "metadata": {},
     "output_type": "display_data"
    },
    {
     "data": {
      "text/plain": [
       "Figure(PyObject <matplotlib.figure.Figure object at 0x13f882790>)"
      ]
     },
     "metadata": {},
     "output_type": "display_data"
    },
    {
     "data": {
      "text/plain": [
       "Figure(PyObject <matplotlib.figure.Figure object at 0x1351c0e90>)"
      ]
     },
     "metadata": {},
     "output_type": "display_data"
    },
    {
     "data": {
      "text/plain": [
       "Figure(PyObject <matplotlib.figure.Figure object at 0x136bc89d0>)"
      ]
     },
     "metadata": {},
     "output_type": "display_data"
    },
    {
     "data": {
      "text/plain": [
       "Figure(PyObject <matplotlib.figure.Figure object at 0x12fe57750>)"
      ]
     },
     "metadata": {},
     "output_type": "display_data"
    },
    {
     "data": {
      "text/plain": [
       "Figure(PyObject <matplotlib.figure.Figure object at 0x137f1d850>)"
      ]
     },
     "metadata": {},
     "output_type": "display_data"
    },
    {
     "data": {
      "text/plain": [
       "Figure(PyObject <matplotlib.figure.Figure object at 0x1274306d0>)"
      ]
     },
     "metadata": {},
     "output_type": "display_data"
    },
    {
     "data": {
      "text/plain": [
       "Figure(PyObject <matplotlib.figure.Figure object at 0x124000d50>)"
      ]
     },
     "metadata": {},
     "output_type": "display_data"
    },
    {
     "data": {
      "text/plain": [
       "Figure(PyObject <matplotlib.figure.Figure object at 0x12104e9d0>)"
      ]
     },
     "metadata": {},
     "output_type": "display_data"
    },
    {
     "data": {
      "text/plain": [
       "Figure(PyObject <matplotlib.figure.Figure object at 0x11ee6df90>)"
      ]
     },
     "metadata": {},
     "output_type": "display_data"
    },
    {
     "data": {
      "text/plain": [
       "Figure(PyObject <matplotlib.figure.Figure object at 0x115b6ce50>)"
      ]
     },
     "metadata": {},
     "output_type": "display_data"
    },
    {
     "data": {
      "text/plain": [
       "Figure(PyObject <matplotlib.figure.Figure object at 0x1186f5ed0>)"
      ]
     },
     "metadata": {},
     "output_type": "display_data"
    },
    {
     "data": {
      "text/plain": [
       "Figure(PyObject <matplotlib.figure.Figure object at 0x13cfe4c50>)"
      ]
     },
     "metadata": {},
     "output_type": "display_data"
    },
    {
     "data": {
      "text/plain": [
       "Figure(PyObject <matplotlib.figure.Figure object at 0x1143c8f90>)"
      ]
     },
     "metadata": {},
     "output_type": "display_data"
    },
    {
     "data": {
      "text/plain": [
       "Figure(PyObject <matplotlib.figure.Figure object at 0x144409950>)"
      ]
     },
     "metadata": {},
     "output_type": "display_data"
    },
    {
     "data": {
      "text/plain": [
       "Figure(PyObject <matplotlib.figure.Figure object at 0x1395dded0>)"
      ]
     },
     "metadata": {},
     "output_type": "display_data"
    },
    {
     "data": {
      "text/plain": [
       "Figure(PyObject <matplotlib.figure.Figure object at 0x139df3c50>)"
      ]
     },
     "metadata": {},
     "output_type": "display_data"
    },
    {
     "data": {
      "text/plain": [
       "Figure(PyObject <matplotlib.figure.Figure object at 0x1343474d0>)"
      ]
     },
     "metadata": {},
     "output_type": "display_data"
    },
    {
     "data": {
      "text/plain": [
       "Figure(PyObject <matplotlib.figure.Figure object at 0x13b6afe10>)"
      ]
     },
     "metadata": {},
     "output_type": "display_data"
    },
    {
     "data": {
      "text/plain": [
       "Figure(PyObject <matplotlib.figure.Figure object at 0x1245a4ad0>)"
      ]
     },
     "metadata": {},
     "output_type": "display_data"
    },
    {
     "data": {
      "text/plain": [
       "Figure(PyObject <matplotlib.figure.Figure object at 0x1422bc610>)"
      ]
     },
     "metadata": {},
     "output_type": "display_data"
    },
    {
     "data": {
      "text/plain": [
       "Figure(PyObject <matplotlib.figure.Figure object at 0x12204fd10>)"
      ]
     },
     "metadata": {},
     "output_type": "display_data"
    },
    {
     "data": {
      "text/plain": [
       "Figure(PyObject <matplotlib.figure.Figure object at 0x1433f7ad0>)"
      ]
     },
     "metadata": {},
     "output_type": "display_data"
    },
    {
     "data": {
      "text/plain": [
       "Figure(PyObject <matplotlib.figure.Figure object at 0x121ac5150>)"
      ]
     },
     "metadata": {},
     "output_type": "display_data"
    },
    {
     "data": {
      "text/plain": [
       "Figure(PyObject <matplotlib.figure.Figure object at 0x12e1ab450>)"
      ]
     },
     "metadata": {},
     "output_type": "display_data"
    },
    {
     "data": {
      "image/png": "[encoded data removed]",
      "text/plain": [
       "Figure(PyObject <matplotlib.figure.Figure object at 0x133b55ad0>)"
      ]
     },
     "metadata": {},
     "output_type": "display_data"
    }
   ],
   "source": [
    "for i = 1:length(m1)\n",
    "    write_plot_data(m1[i], \"/Users/zahedi/Dropbox/POMDPs/plots/V1_$i.png\")\n",
    "    write_plot_data(m2[i], \"/Users/zahedi/Dropbox/POMDPs/plots/V2_$i.png\")\n",
    "    write_plot_data(m3[i], \"/Users/zahedi/Dropbox/POMDPs/plots/V3_$i.png\")\n",
    "    write_plot_data(m4[i], \"/Users/zahedi/Dropbox/POMDPs/plots/V4_$i.png\")\n",
    "end"
   ]
  },
  {
   "cell_type": "code",
   "execution_count": 71,
   "metadata": {
    "collapsed": false
   },
   "outputs": [
    {
     "data": {
      "text/plain": [
       "Figure(PyObject <matplotlib.figure.Figure object at 0x1460a5310>)"
      ]
     },
     "metadata": {},
     "output_type": "display_data"
    },
    {
     "data": {
      "image/png": "[encoded data removed]",
      "text/plain": [
       "Figure(PyObject <matplotlib.figure.Figure object at 0x15a3c4e50>)"
      ]
     },
     "metadata": {},
     "output_type": "display_data"
    },
    {
     "data": {
      "text/plain": [
       "PyObject <matplotlib.text.Text object at 0x124b4be10>"
      ]
     },
     "execution_count": 71,
     "metadata": {},
     "output_type": "execute_result"
    }
   ],
   "source": [
    "plot_data(m4[1])"
   ]
  },
  {
   "cell_type": "code",
   "execution_count": null,
   "metadata": {
    "collapsed": true
   },
   "outputs": [],
   "source": []
  }
 ],
 "metadata": {
  "kernelspec": {
   "display_name": "Julia 0.3.7",
   "language": "julia",
   "name": "julia 0.3"
  },
  "language_info": {
   "name": "julia",
   "version": "0.3.7"
  }
 },
 "nbformat": 4,
 "nbformat_minor": 0
}
